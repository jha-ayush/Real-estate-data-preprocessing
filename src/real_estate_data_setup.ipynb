{
 "cells": [
  {
   "cell_type": "markdown",
   "id": "a23708c7-b2b6-442c-9925-4eb04147eb62",
   "metadata": {},
   "source": [
    "# Kaggle historical real-estate data analysis on U.S. mainland data\n",
    "\n",
    "Data preprossing in Jupyterlab - cleanup low house counts, U.S. territories, fill missing values using **sklearn** `KNNImputer`, `LinearRegression`\n",
    "\n",
    "# ---------------------------------------------------------------------------------------"
   ]
  },
  {
   "cell_type": "markdown",
   "id": "ae6a6438-4b43-48f6-8e67-37831bc22c3e",
   "metadata": {},
   "source": [
    "### Import libraries"
   ]
  },
  {
   "cell_type": "code",
   "execution_count": 1,
   "id": "6f6943d9-8c57-4749-ab0e-1d59f0270d38",
   "metadata": {},
   "outputs": [
    {
     "name": "stdout",
     "output_type": "stream",
     "text": [
      "Last updated: 2023-03-24T14:31:29.629808-07:00\n",
      "\n",
      "Python implementation: CPython\n",
      "Python version       : 3.7.13\n",
      "IPython version      : 7.34.0\n",
      "\n",
      "Compiler    : Clang 12.0.0 \n",
      "OS          : Darwin\n",
      "Release     : 22.3.0\n",
      "Machine     : x86_64\n",
      "Processor   : i386\n",
      "CPU cores   : 8\n",
      "Architecture: 64bit\n",
      "\n",
      "pandas: 1.3.5\n",
      "numpy : 1.21.6\n",
      "\n"
     ]
    }
   ],
   "source": [
    "# Import libraries\n",
    "import pandas as pd\n",
    "import numpy as np\n",
    "\n",
    "############### Import warnings + watermark ###############\n",
    "from watermark import watermark\n",
    "from warnings import filterwarnings\n",
    "filterwarnings(\"ignore\")\n",
    "print(watermark())\n",
    "print(watermark(iversions=True, globals_=globals()))"
   ]
  },
  {
   "cell_type": "markdown",
   "id": "65ae8a0b-7844-4806-b8f1-64f770d52e33",
   "metadata": {},
   "source": [
    "# ---------------------------------------------------------------------------------------"
   ]
  },
  {
   "cell_type": "markdown",
   "id": "b8cc7473-7cba-4b99-8238-60b3b1b7a5a4",
   "metadata": {},
   "source": [
    "### Import original `csv` file from Kaggle"
   ]
  },
  {
   "cell_type": "code",
   "execution_count": 2,
   "id": "d150c8f7-bc5a-4ec9-97c2-6159656b70dc",
   "metadata": {},
   "outputs": [],
   "source": [
    "# Create pandas dataframe using pandas `read_csv`\n",
    "# data_df = pd.read_csv(\"original_data.csv\")"
   ]
  },
  {
   "cell_type": "markdown",
   "id": "b851eae3-23be-47aa-a4e8-6388a5e8fe5d",
   "metadata": {},
   "source": [
    "### Display head of original data"
   ]
  },
  {
   "cell_type": "code",
   "execution_count": 3,
   "id": "734afad6-d4d0-4cee-b09f-cdc3d7a0bbe9",
   "metadata": {},
   "outputs": [
    {
     "data": {
      "text/html": [
       "<div>\n",
       "<style scoped>\n",
       "    .dataframe tbody tr th:only-of-type {\n",
       "        vertical-align: middle;\n",
       "    }\n",
       "\n",
       "    .dataframe tbody tr th {\n",
       "        vertical-align: top;\n",
       "    }\n",
       "\n",
       "    .dataframe thead th {\n",
       "        text-align: right;\n",
       "    }\n",
       "</style>\n",
       "<table border=\"1\" class=\"dataframe\">\n",
       "  <thead>\n",
       "    <tr style=\"text-align: right;\">\n",
       "      <th></th>\n",
       "      <th>status</th>\n",
       "      <th>price</th>\n",
       "      <th>bed</th>\n",
       "      <th>bath</th>\n",
       "      <th>acre_lot</th>\n",
       "      <th>full_address</th>\n",
       "      <th>street</th>\n",
       "      <th>city</th>\n",
       "      <th>state</th>\n",
       "      <th>zip_code</th>\n",
       "      <th>house_size</th>\n",
       "      <th>sold_date</th>\n",
       "    </tr>\n",
       "  </thead>\n",
       "  <tbody>\n",
       "    <tr>\n",
       "      <th>0</th>\n",
       "      <td>for_sale</td>\n",
       "      <td>105000.0</td>\n",
       "      <td>3.0</td>\n",
       "      <td>2.0</td>\n",
       "      <td>0.12</td>\n",
       "      <td>Sector Yahuecas Titulo # V84, Adjuntas, PR, 00601</td>\n",
       "      <td>Sector Yahuecas Titulo # V84</td>\n",
       "      <td>Adjuntas</td>\n",
       "      <td>Puerto Rico</td>\n",
       "      <td>601.0</td>\n",
       "      <td>920.0</td>\n",
       "      <td>NaN</td>\n",
       "    </tr>\n",
       "    <tr>\n",
       "      <th>1</th>\n",
       "      <td>for_sale</td>\n",
       "      <td>80000.0</td>\n",
       "      <td>4.0</td>\n",
       "      <td>2.0</td>\n",
       "      <td>0.08</td>\n",
       "      <td>Km 78 9 Carr # 135, Adjuntas, PR, 00601</td>\n",
       "      <td>Km 78 9 Carr # 135</td>\n",
       "      <td>Adjuntas</td>\n",
       "      <td>Puerto Rico</td>\n",
       "      <td>601.0</td>\n",
       "      <td>1527.0</td>\n",
       "      <td>NaN</td>\n",
       "    </tr>\n",
       "    <tr>\n",
       "      <th>2</th>\n",
       "      <td>for_sale</td>\n",
       "      <td>67000.0</td>\n",
       "      <td>2.0</td>\n",
       "      <td>1.0</td>\n",
       "      <td>0.15</td>\n",
       "      <td>556G 556-G 16 St, Juana Diaz, PR, 00795</td>\n",
       "      <td>556G 556-G 16 St</td>\n",
       "      <td>Juana Diaz</td>\n",
       "      <td>Puerto Rico</td>\n",
       "      <td>795.0</td>\n",
       "      <td>748.0</td>\n",
       "      <td>NaN</td>\n",
       "    </tr>\n",
       "    <tr>\n",
       "      <th>3</th>\n",
       "      <td>for_sale</td>\n",
       "      <td>145000.0</td>\n",
       "      <td>4.0</td>\n",
       "      <td>2.0</td>\n",
       "      <td>0.10</td>\n",
       "      <td>R5 Comunidad El Paraso Calle De Oro R-5 Ponce,...</td>\n",
       "      <td>R5 Comunidad El Paraso Calle De Oro R-5 Ponce</td>\n",
       "      <td>Ponce</td>\n",
       "      <td>Puerto Rico</td>\n",
       "      <td>731.0</td>\n",
       "      <td>1800.0</td>\n",
       "      <td>NaN</td>\n",
       "    </tr>\n",
       "    <tr>\n",
       "      <th>4</th>\n",
       "      <td>for_sale</td>\n",
       "      <td>65000.0</td>\n",
       "      <td>6.0</td>\n",
       "      <td>2.0</td>\n",
       "      <td>0.05</td>\n",
       "      <td>14 Navarro, Mayaguez, PR, 00680</td>\n",
       "      <td>14 Navarro</td>\n",
       "      <td>Mayaguez</td>\n",
       "      <td>Puerto Rico</td>\n",
       "      <td>680.0</td>\n",
       "      <td>NaN</td>\n",
       "      <td>NaN</td>\n",
       "    </tr>\n",
       "  </tbody>\n",
       "</table>\n",
       "</div>"
      ],
      "text/plain": [
       "     status     price  bed  bath  acre_lot  \\\n",
       "0  for_sale  105000.0  3.0   2.0      0.12   \n",
       "1  for_sale   80000.0  4.0   2.0      0.08   \n",
       "2  for_sale   67000.0  2.0   1.0      0.15   \n",
       "3  for_sale  145000.0  4.0   2.0      0.10   \n",
       "4  for_sale   65000.0  6.0   2.0      0.05   \n",
       "\n",
       "                                        full_address  \\\n",
       "0  Sector Yahuecas Titulo # V84, Adjuntas, PR, 00601   \n",
       "1            Km 78 9 Carr # 135, Adjuntas, PR, 00601   \n",
       "2            556G 556-G 16 St, Juana Diaz, PR, 00795   \n",
       "3  R5 Comunidad El Paraso Calle De Oro R-5 Ponce,...   \n",
       "4                    14 Navarro, Mayaguez, PR, 00680   \n",
       "\n",
       "                                          street        city        state  \\\n",
       "0                   Sector Yahuecas Titulo # V84    Adjuntas  Puerto Rico   \n",
       "1                             Km 78 9 Carr # 135    Adjuntas  Puerto Rico   \n",
       "2                               556G 556-G 16 St  Juana Diaz  Puerto Rico   \n",
       "3  R5 Comunidad El Paraso Calle De Oro R-5 Ponce       Ponce  Puerto Rico   \n",
       "4                                     14 Navarro    Mayaguez  Puerto Rico   \n",
       "\n",
       "   zip_code  house_size sold_date  \n",
       "0     601.0       920.0       NaN  \n",
       "1     601.0      1527.0       NaN  \n",
       "2     795.0       748.0       NaN  \n",
       "3     731.0      1800.0       NaN  \n",
       "4     680.0         NaN       NaN  "
      ]
     },
     "metadata": {},
     "output_type": "display_data"
    }
   ],
   "source": [
    "# Display head values\n",
    "display(data_df.head(5))"
   ]
  },
  {
   "cell_type": "markdown",
   "id": "47f23d9b-ab1c-4793-ada2-f35909fdaa11",
   "metadata": {},
   "source": [
    "### Display tail of original data"
   ]
  },
  {
   "cell_type": "code",
   "execution_count": 4,
   "id": "0a79ebfb-0d2a-4c43-8ae0-7420fba07d28",
   "metadata": {},
   "outputs": [
    {
     "data": {
      "text/html": [
       "<div>\n",
       "<style scoped>\n",
       "    .dataframe tbody tr th:only-of-type {\n",
       "        vertical-align: middle;\n",
       "    }\n",
       "\n",
       "    .dataframe tbody tr th {\n",
       "        vertical-align: top;\n",
       "    }\n",
       "\n",
       "    .dataframe thead th {\n",
       "        text-align: right;\n",
       "    }\n",
       "</style>\n",
       "<table border=\"1\" class=\"dataframe\">\n",
       "  <thead>\n",
       "    <tr style=\"text-align: right;\">\n",
       "      <th></th>\n",
       "      <th>status</th>\n",
       "      <th>price</th>\n",
       "      <th>bed</th>\n",
       "      <th>bath</th>\n",
       "      <th>acre_lot</th>\n",
       "      <th>full_address</th>\n",
       "      <th>street</th>\n",
       "      <th>city</th>\n",
       "      <th>state</th>\n",
       "      <th>zip_code</th>\n",
       "      <th>house_size</th>\n",
       "      <th>sold_date</th>\n",
       "    </tr>\n",
       "  </thead>\n",
       "  <tbody>\n",
       "    <tr>\n",
       "      <th>923154</th>\n",
       "      <td>for_sale</td>\n",
       "      <td>445000.0</td>\n",
       "      <td>1.0</td>\n",
       "      <td>2.0</td>\n",
       "      <td>0.99</td>\n",
       "      <td>1008 King St, Chappaqua, NY, 10514</td>\n",
       "      <td>1008 King St</td>\n",
       "      <td>Chappaqua</td>\n",
       "      <td>New York</td>\n",
       "      <td>10514.0</td>\n",
       "      <td>1052.0</td>\n",
       "      <td>2011-05-09</td>\n",
       "    </tr>\n",
       "    <tr>\n",
       "      <th>923155</th>\n",
       "      <td>for_sale</td>\n",
       "      <td>418000.0</td>\n",
       "      <td>4.0</td>\n",
       "      <td>2.0</td>\n",
       "      <td>0.40</td>\n",
       "      <td>3 Elmwood Dr, Monroe, NY, 10950</td>\n",
       "      <td>3 Elmwood Dr</td>\n",
       "      <td>Monroe</td>\n",
       "      <td>New York</td>\n",
       "      <td>10950.0</td>\n",
       "      <td>1650.0</td>\n",
       "      <td>2015-07-21</td>\n",
       "    </tr>\n",
       "    <tr>\n",
       "      <th>923156</th>\n",
       "      <td>for_sale</td>\n",
       "      <td>469000.0</td>\n",
       "      <td>4.0</td>\n",
       "      <td>2.0</td>\n",
       "      <td>0.18</td>\n",
       "      <td>13 N Conger Ave, Congers, NY, 10920</td>\n",
       "      <td>13 N Conger Ave</td>\n",
       "      <td>Congers</td>\n",
       "      <td>New York</td>\n",
       "      <td>10920.0</td>\n",
       "      <td>2123.0</td>\n",
       "      <td>NaN</td>\n",
       "    </tr>\n",
       "    <tr>\n",
       "      <th>923157</th>\n",
       "      <td>for_sale</td>\n",
       "      <td>825000.0</td>\n",
       "      <td>5.0</td>\n",
       "      <td>5.0</td>\n",
       "      <td>0.79</td>\n",
       "      <td>7 Miller Rd, Valley Cottage, NY, 10989</td>\n",
       "      <td>7 Miller Rd</td>\n",
       "      <td>Valley Cottage</td>\n",
       "      <td>New York</td>\n",
       "      <td>10989.0</td>\n",
       "      <td>3775.0</td>\n",
       "      <td>2010-06-02</td>\n",
       "    </tr>\n",
       "    <tr>\n",
       "      <th>923158</th>\n",
       "      <td>for_sale</td>\n",
       "      <td>88000.0</td>\n",
       "      <td>NaN</td>\n",
       "      <td>NaN</td>\n",
       "      <td>35.00</td>\n",
       "      <td>D18 Half Moon Bay Dr, Croton On Hudson, NY, 10520</td>\n",
       "      <td>D18 Half Moon Bay Dr</td>\n",
       "      <td>Croton On Hudson</td>\n",
       "      <td>New York</td>\n",
       "      <td>10520.0</td>\n",
       "      <td>780.0</td>\n",
       "      <td>NaN</td>\n",
       "    </tr>\n",
       "  </tbody>\n",
       "</table>\n",
       "</div>"
      ],
      "text/plain": [
       "          status     price  bed  bath  acre_lot  \\\n",
       "923154  for_sale  445000.0  1.0   2.0      0.99   \n",
       "923155  for_sale  418000.0  4.0   2.0      0.40   \n",
       "923156  for_sale  469000.0  4.0   2.0      0.18   \n",
       "923157  for_sale  825000.0  5.0   5.0      0.79   \n",
       "923158  for_sale   88000.0  NaN   NaN     35.00   \n",
       "\n",
       "                                             full_address  \\\n",
       "923154                 1008 King St, Chappaqua, NY, 10514   \n",
       "923155                    3 Elmwood Dr, Monroe, NY, 10950   \n",
       "923156                13 N Conger Ave, Congers, NY, 10920   \n",
       "923157             7 Miller Rd, Valley Cottage, NY, 10989   \n",
       "923158  D18 Half Moon Bay Dr, Croton On Hudson, NY, 10520   \n",
       "\n",
       "                      street              city     state  zip_code  \\\n",
       "923154          1008 King St         Chappaqua  New York   10514.0   \n",
       "923155          3 Elmwood Dr            Monroe  New York   10950.0   \n",
       "923156       13 N Conger Ave           Congers  New York   10920.0   \n",
       "923157           7 Miller Rd    Valley Cottage  New York   10989.0   \n",
       "923158  D18 Half Moon Bay Dr  Croton On Hudson  New York   10520.0   \n",
       "\n",
       "        house_size   sold_date  \n",
       "923154      1052.0  2011-05-09  \n",
       "923155      1650.0  2015-07-21  \n",
       "923156      2123.0         NaN  \n",
       "923157      3775.0  2010-06-02  \n",
       "923158       780.0         NaN  "
      ]
     },
     "metadata": {},
     "output_type": "display_data"
    }
   ],
   "source": [
    "# Display tail values\n",
    "display(data_df.tail(5))"
   ]
  },
  {
   "cell_type": "markdown",
   "id": "ac73ef2e-ad85-4841-93db-6721fb833c59",
   "metadata": {},
   "source": [
    "### Convert price to 2 decimal places"
   ]
  },
  {
   "cell_type": "code",
   "execution_count": 5,
   "id": "55792007-1c86-455d-a826-66010fab4961",
   "metadata": {},
   "outputs": [],
   "source": [
    "# Round `price` to 2 decimals\n",
    "data_df[\"price\"] = data_df[\"price\"].round(2)"
   ]
  },
  {
   "cell_type": "markdown",
   "id": "35754c0b-8d8b-48d8-aa35-ac894e43ab00",
   "metadata": {},
   "source": [
    "### Get original dataframe info"
   ]
  },
  {
   "cell_type": "code",
   "execution_count": 6,
   "id": "71904eab-1b35-4a85-a8cf-51010d9df9f8",
   "metadata": {},
   "outputs": [
    {
     "name": "stdout",
     "output_type": "stream",
     "text": [
      "<class 'pandas.core.frame.DataFrame'>\n",
      "RangeIndex: 923159 entries, 0 to 923158\n",
      "Data columns (total 12 columns):\n",
      " #   Column        Non-Null Count   Dtype  \n",
      "---  ------        --------------   -----  \n",
      " 0   status        923159 non-null  object \n",
      " 1   price         923088 non-null  float64\n",
      " 2   bed           791456 non-null  float64\n",
      " 3   bath          807967 non-null  float64\n",
      " 4   acre_lot      649536 non-null  float64\n",
      " 5   full_address  923159 non-null  object \n",
      " 6   street        921021 non-null  object \n",
      " 7   city          923085 non-null  object \n",
      " 8   state         923159 non-null  object \n",
      " 9   zip_code      922954 non-null  float64\n",
      " 10  house_size    625316 non-null  float64\n",
      " 11  sold_date     456396 non-null  object \n",
      "dtypes: float64(6), object(6)\n",
      "memory usage: 84.5+ MB\n"
     ]
    }
   ],
   "source": [
    "# Get original dataframe info\n",
    "data_df.info()"
   ]
  },
  {
   "cell_type": "markdown",
   "id": "fa91d78b-5a8d-40d4-8876-a326b034d3e8",
   "metadata": {},
   "source": [
    "### Find number of `rows` & `columns` for the original data, using `.shape` method"
   ]
  },
  {
   "cell_type": "code",
   "execution_count": 7,
   "id": "4bc613fe-eab0-412c-83ae-082ef26732ef",
   "metadata": {},
   "outputs": [
    {
     "data": {
      "text/plain": [
       "(923159, 12)"
      ]
     },
     "execution_count": 7,
     "metadata": {},
     "output_type": "execute_result"
    }
   ],
   "source": [
    "# Get original data shape to get number of rows and columns\n",
    "data_df.shape"
   ]
  },
  {
   "cell_type": "markdown",
   "id": "f1e4ac5f-944d-472b-8ba2-770ed1ca7f16",
   "metadata": {},
   "source": [
    "# ---------------------------------------------------------------------------------------"
   ]
  },
  {
   "cell_type": "markdown",
   "id": "2360bd68-0a75-4eb0-ad21-d6b3b7f16701",
   "metadata": {},
   "source": [
    "### Display `status` values for available properties"
   ]
  },
  {
   "cell_type": "code",
   "execution_count": 8,
   "id": "c62829bd-f761-447a-a0b7-7b7ff80e22f7",
   "metadata": {},
   "outputs": [
    {
     "data": {
      "text/plain": [
       "array(['for_sale', 'ready_to_build'], dtype=object)"
      ]
     },
     "execution_count": 8,
     "metadata": {},
     "output_type": "execute_result"
    }
   ],
   "source": [
    "# Display unique `status` values -  Rows with all values present are: `status`, `price`, `full_address`, `state`\n",
    "data_df[\"status\"].unique()"
   ]
  },
  {
   "cell_type": "markdown",
   "id": "3e94192e-2a7a-429a-886e-b2a173d5ab31",
   "metadata": {},
   "source": [
    "### Drop `ready_to_build` status value from analysis. Only keep `for_sale` status values."
   ]
  },
  {
   "cell_type": "code",
   "execution_count": 9,
   "id": "e5819242-1425-473e-8b18-607fa4bcc6ba",
   "metadata": {},
   "outputs": [
    {
     "data": {
      "text/plain": [
       "array(['for_sale'], dtype=object)"
      ]
     },
     "execution_count": 9,
     "metadata": {},
     "output_type": "execute_result"
    }
   ],
   "source": [
    "# Drop all rows with `status = ready_to_build`\n",
    "data_df = data_df[data_df[\"status\"] != \"ready_to_build\"]\n",
    "\n",
    "# Display unique `status` values\n",
    "data_df[\"status\"].unique()"
   ]
  },
  {
   "cell_type": "markdown",
   "id": "4a6cb287-6d1e-4e03-92b7-e94e82b27925",
   "metadata": {},
   "source": [
    "### Count number of `NaN` values for each column for `for_sale` status"
   ]
  },
  {
   "cell_type": "code",
   "execution_count": 10,
   "id": "8d632bdc-aad3-42b2-9a7d-25adce3c7606",
   "metadata": {},
   "outputs": [
    {
     "data": {
      "text/plain": [
       "status               0\n",
       "price                0\n",
       "bed             131703\n",
       "bath            113561\n",
       "acre_lot        271992\n",
       "full_address         0\n",
       "street            2138\n",
       "city                74\n",
       "state                0\n",
       "zip_code           205\n",
       "house_size      297843\n",
       "sold_date       465132\n",
       "dtype: int64"
      ]
     },
     "metadata": {},
     "output_type": "display_data"
    }
   ],
   "source": [
    "# Count the NaN values in each column\n",
    "nan_counts = data_df.isna().sum()\n",
    "\n",
    "# Print the NaN counts for each column\n",
    "display(nan_counts)"
   ]
  },
  {
   "cell_type": "markdown",
   "id": "d8403bdf-6536-49f0-8a3a-95b205a44010",
   "metadata": {},
   "source": [
    "### Display `for_sale` properties in all available locations"
   ]
  },
  {
   "cell_type": "code",
   "execution_count": 11,
   "id": "2125c1fd-7bfd-4fd9-96a8-7e1c989bf165",
   "metadata": {},
   "outputs": [
    {
     "data": {
      "text/plain": [
       "state\n",
       "Connecticut        91632\n",
       "Delaware            2092\n",
       "Georgia               50\n",
       "Maine              36650\n",
       "Massachusetts     174488\n",
       "New Hampshire      51394\n",
       "New Jersey        232997\n",
       "New York          211769\n",
       "Pennsylvania       17066\n",
       "Puerto Rico        24679\n",
       "Rhode Island       29596\n",
       "South Carolina        25\n",
       "Tennessee             20\n",
       "Vermont            46460\n",
       "Virgin Islands      2573\n",
       "Virginia              31\n",
       "West Virginia          3\n",
       "Wyoming                3\n",
       "Name: status, dtype: int64"
      ]
     },
     "metadata": {},
     "output_type": "display_data"
    }
   ],
   "source": [
    "# Find all properties available in each state\n",
    "display(data_df.groupby(\"state\")[\"status\"].size())"
   ]
  },
  {
   "cell_type": "markdown",
   "id": "e0c9d1fd-5ad6-4b1d-892f-6bb2686cb007",
   "metadata": {},
   "source": [
    "# ---------------------------------------------------------------------------------------"
   ]
  },
  {
   "cell_type": "markdown",
   "id": "5854d7ac-bb60-4e64-b9ac-b64e28b644d4",
   "metadata": {},
   "source": [
    "### Drop specific locations for analysis - U.S. territories, U.S mainland states with lower than 100 counts available"
   ]
  },
  {
   "cell_type": "code",
   "execution_count": 12,
   "id": "ab88201d-e9f1-4ca5-b66b-6448dade9896",
   "metadata": {},
   "outputs": [
    {
     "data": {
      "text/html": [
       "<div>\n",
       "<style scoped>\n",
       "    .dataframe tbody tr th:only-of-type {\n",
       "        vertical-align: middle;\n",
       "    }\n",
       "\n",
       "    .dataframe tbody tr th {\n",
       "        vertical-align: top;\n",
       "    }\n",
       "\n",
       "    .dataframe thead th {\n",
       "        text-align: right;\n",
       "    }\n",
       "</style>\n",
       "<table border=\"1\" class=\"dataframe\">\n",
       "  <thead>\n",
       "    <tr style=\"text-align: right;\">\n",
       "      <th></th>\n",
       "      <th>status</th>\n",
       "      <th>price</th>\n",
       "      <th>bed</th>\n",
       "      <th>bath</th>\n",
       "      <th>acre_lot</th>\n",
       "      <th>full_address</th>\n",
       "      <th>street</th>\n",
       "      <th>city</th>\n",
       "      <th>state</th>\n",
       "      <th>zip_code</th>\n",
       "      <th>house_size</th>\n",
       "      <th>sold_date</th>\n",
       "    </tr>\n",
       "  </thead>\n",
       "  <tbody>\n",
       "    <tr>\n",
       "      <th>24231</th>\n",
       "      <td>for_sale</td>\n",
       "      <td>180000.0</td>\n",
       "      <td>2.0</td>\n",
       "      <td>1.0</td>\n",
       "      <td>0.34</td>\n",
       "      <td>23 Moore St, Agawam, MA, 01001</td>\n",
       "      <td>23 Moore St</td>\n",
       "      <td>Agawam</td>\n",
       "      <td>Massachusetts</td>\n",
       "      <td>1001.0</td>\n",
       "      <td>676.0</td>\n",
       "      <td>NaN</td>\n",
       "    </tr>\n",
       "    <tr>\n",
       "      <th>24232</th>\n",
       "      <td>for_sale</td>\n",
       "      <td>25000.0</td>\n",
       "      <td>NaN</td>\n",
       "      <td>NaN</td>\n",
       "      <td>3.41</td>\n",
       "      <td>Leonard St, Agawam, MA, 01001</td>\n",
       "      <td>Leonard St</td>\n",
       "      <td>Agawam</td>\n",
       "      <td>Massachusetts</td>\n",
       "      <td>1001.0</td>\n",
       "      <td>NaN</td>\n",
       "      <td>NaN</td>\n",
       "    </tr>\n",
       "    <tr>\n",
       "      <th>24233</th>\n",
       "      <td>for_sale</td>\n",
       "      <td>169900.0</td>\n",
       "      <td>2.0</td>\n",
       "      <td>2.0</td>\n",
       "      <td>NaN</td>\n",
       "      <td>420 Main St Apt 42, Agawam, MA, 01001</td>\n",
       "      <td>420 Main St Apt 42</td>\n",
       "      <td>Agawam</td>\n",
       "      <td>Massachusetts</td>\n",
       "      <td>1001.0</td>\n",
       "      <td>892.0</td>\n",
       "      <td>2019-04-30</td>\n",
       "    </tr>\n",
       "    <tr>\n",
       "      <th>24234</th>\n",
       "      <td>for_sale</td>\n",
       "      <td>242000.0</td>\n",
       "      <td>2.0</td>\n",
       "      <td>2.0</td>\n",
       "      <td>NaN</td>\n",
       "      <td>2A Mansion Woods Dr Unit 2A, Agawam, MA, 01001</td>\n",
       "      <td>2A Mansion Woods Dr Unit 2A</td>\n",
       "      <td>Agawam</td>\n",
       "      <td>Massachusetts</td>\n",
       "      <td>1001.0</td>\n",
       "      <td>1428.0</td>\n",
       "      <td>NaN</td>\n",
       "    </tr>\n",
       "    <tr>\n",
       "      <th>24235</th>\n",
       "      <td>for_sale</td>\n",
       "      <td>299950.0</td>\n",
       "      <td>2.0</td>\n",
       "      <td>2.0</td>\n",
       "      <td>NaN</td>\n",
       "      <td>19 Castle Hill Rd Unit C, Agawam, MA, 01001</td>\n",
       "      <td>19 Castle Hill Rd Unit C</td>\n",
       "      <td>Agawam</td>\n",
       "      <td>Massachusetts</td>\n",
       "      <td>1001.0</td>\n",
       "      <td>1659.0</td>\n",
       "      <td>NaN</td>\n",
       "    </tr>\n",
       "    <tr>\n",
       "      <th>...</th>\n",
       "      <td>...</td>\n",
       "      <td>...</td>\n",
       "      <td>...</td>\n",
       "      <td>...</td>\n",
       "      <td>...</td>\n",
       "      <td>...</td>\n",
       "      <td>...</td>\n",
       "      <td>...</td>\n",
       "      <td>...</td>\n",
       "      <td>...</td>\n",
       "      <td>...</td>\n",
       "      <td>...</td>\n",
       "    </tr>\n",
       "    <tr>\n",
       "      <th>923154</th>\n",
       "      <td>for_sale</td>\n",
       "      <td>445000.0</td>\n",
       "      <td>1.0</td>\n",
       "      <td>2.0</td>\n",
       "      <td>0.99</td>\n",
       "      <td>1008 King St, Chappaqua, NY, 10514</td>\n",
       "      <td>1008 King St</td>\n",
       "      <td>Chappaqua</td>\n",
       "      <td>New York</td>\n",
       "      <td>10514.0</td>\n",
       "      <td>1052.0</td>\n",
       "      <td>2011-05-09</td>\n",
       "    </tr>\n",
       "    <tr>\n",
       "      <th>923155</th>\n",
       "      <td>for_sale</td>\n",
       "      <td>418000.0</td>\n",
       "      <td>4.0</td>\n",
       "      <td>2.0</td>\n",
       "      <td>0.40</td>\n",
       "      <td>3 Elmwood Dr, Monroe, NY, 10950</td>\n",
       "      <td>3 Elmwood Dr</td>\n",
       "      <td>Monroe</td>\n",
       "      <td>New York</td>\n",
       "      <td>10950.0</td>\n",
       "      <td>1650.0</td>\n",
       "      <td>2015-07-21</td>\n",
       "    </tr>\n",
       "    <tr>\n",
       "      <th>923156</th>\n",
       "      <td>for_sale</td>\n",
       "      <td>469000.0</td>\n",
       "      <td>4.0</td>\n",
       "      <td>2.0</td>\n",
       "      <td>0.18</td>\n",
       "      <td>13 N Conger Ave, Congers, NY, 10920</td>\n",
       "      <td>13 N Conger Ave</td>\n",
       "      <td>Congers</td>\n",
       "      <td>New York</td>\n",
       "      <td>10920.0</td>\n",
       "      <td>2123.0</td>\n",
       "      <td>NaN</td>\n",
       "    </tr>\n",
       "    <tr>\n",
       "      <th>923157</th>\n",
       "      <td>for_sale</td>\n",
       "      <td>825000.0</td>\n",
       "      <td>5.0</td>\n",
       "      <td>5.0</td>\n",
       "      <td>0.79</td>\n",
       "      <td>7 Miller Rd, Valley Cottage, NY, 10989</td>\n",
       "      <td>7 Miller Rd</td>\n",
       "      <td>Valley Cottage</td>\n",
       "      <td>New York</td>\n",
       "      <td>10989.0</td>\n",
       "      <td>3775.0</td>\n",
       "      <td>2010-06-02</td>\n",
       "    </tr>\n",
       "    <tr>\n",
       "      <th>923158</th>\n",
       "      <td>for_sale</td>\n",
       "      <td>88000.0</td>\n",
       "      <td>NaN</td>\n",
       "      <td>NaN</td>\n",
       "      <td>35.00</td>\n",
       "      <td>D18 Half Moon Bay Dr, Croton On Hudson, NY, 10520</td>\n",
       "      <td>D18 Half Moon Bay Dr</td>\n",
       "      <td>Croton On Hudson</td>\n",
       "      <td>New York</td>\n",
       "      <td>10520.0</td>\n",
       "      <td>780.0</td>\n",
       "      <td>NaN</td>\n",
       "    </tr>\n",
       "  </tbody>\n",
       "</table>\n",
       "<p>894144 rows × 12 columns</p>\n",
       "</div>"
      ],
      "text/plain": [
       "          status     price  bed  bath  acre_lot  \\\n",
       "24231   for_sale  180000.0  2.0   1.0      0.34   \n",
       "24232   for_sale   25000.0  NaN   NaN      3.41   \n",
       "24233   for_sale  169900.0  2.0   2.0       NaN   \n",
       "24234   for_sale  242000.0  2.0   2.0       NaN   \n",
       "24235   for_sale  299950.0  2.0   2.0       NaN   \n",
       "...          ...       ...  ...   ...       ...   \n",
       "923154  for_sale  445000.0  1.0   2.0      0.99   \n",
       "923155  for_sale  418000.0  4.0   2.0      0.40   \n",
       "923156  for_sale  469000.0  4.0   2.0      0.18   \n",
       "923157  for_sale  825000.0  5.0   5.0      0.79   \n",
       "923158  for_sale   88000.0  NaN   NaN     35.00   \n",
       "\n",
       "                                             full_address  \\\n",
       "24231                      23 Moore St, Agawam, MA, 01001   \n",
       "24232                       Leonard St, Agawam, MA, 01001   \n",
       "24233               420 Main St Apt 42, Agawam, MA, 01001   \n",
       "24234      2A Mansion Woods Dr Unit 2A, Agawam, MA, 01001   \n",
       "24235         19 Castle Hill Rd Unit C, Agawam, MA, 01001   \n",
       "...                                                   ...   \n",
       "923154                 1008 King St, Chappaqua, NY, 10514   \n",
       "923155                    3 Elmwood Dr, Monroe, NY, 10950   \n",
       "923156                13 N Conger Ave, Congers, NY, 10920   \n",
       "923157             7 Miller Rd, Valley Cottage, NY, 10989   \n",
       "923158  D18 Half Moon Bay Dr, Croton On Hudson, NY, 10520   \n",
       "\n",
       "                             street              city          state  \\\n",
       "24231                   23 Moore St            Agawam  Massachusetts   \n",
       "24232                    Leonard St            Agawam  Massachusetts   \n",
       "24233            420 Main St Apt 42            Agawam  Massachusetts   \n",
       "24234   2A Mansion Woods Dr Unit 2A            Agawam  Massachusetts   \n",
       "24235      19 Castle Hill Rd Unit C            Agawam  Massachusetts   \n",
       "...                             ...               ...            ...   \n",
       "923154                 1008 King St         Chappaqua       New York   \n",
       "923155                 3 Elmwood Dr            Monroe       New York   \n",
       "923156              13 N Conger Ave           Congers       New York   \n",
       "923157                  7 Miller Rd    Valley Cottage       New York   \n",
       "923158         D18 Half Moon Bay Dr  Croton On Hudson       New York   \n",
       "\n",
       "        zip_code  house_size   sold_date  \n",
       "24231     1001.0       676.0         NaN  \n",
       "24232     1001.0         NaN         NaN  \n",
       "24233     1001.0       892.0  2019-04-30  \n",
       "24234     1001.0      1428.0         NaN  \n",
       "24235     1001.0      1659.0         NaN  \n",
       "...          ...         ...         ...  \n",
       "923154   10514.0      1052.0  2011-05-09  \n",
       "923155   10950.0      1650.0  2015-07-21  \n",
       "923156   10920.0      2123.0         NaN  \n",
       "923157   10989.0      3775.0  2010-06-02  \n",
       "923158   10520.0       780.0         NaN  \n",
       "\n",
       "[894144 rows x 12 columns]"
      ]
     },
     "metadata": {},
     "output_type": "display_data"
    }
   ],
   "source": [
    "# Drop Puerto Rico & US Virgin Islands, states with low counts\n",
    "states_to_drop = [\"Virgin Islands\", \"Puerto Rico\", \"Georgia\", \"South Carolina\", \"Tennessee\", \"Virginia\", \"West Virginia\", \"Wyoming\"]\n",
    "filtered_df = data_df[~data_df[\"state\"].isin(states_to_drop)]\n",
    "\n",
    "\n",
    "# Display dataframe\n",
    "display(filtered_df)"
   ]
  },
  {
   "cell_type": "markdown",
   "id": "599f6491-7f54-4c42-9290-4f0ef125084c",
   "metadata": {},
   "source": [
    "### Re-iterate: Drop rows with less than 100 counts"
   ]
  },
  {
   "cell_type": "code",
   "execution_count": 13,
   "id": "2b57399b-5de5-4d22-8c0b-d36c75028753",
   "metadata": {},
   "outputs": [
    {
     "data": {
      "text/html": [
       "<div>\n",
       "<style scoped>\n",
       "    .dataframe tbody tr th:only-of-type {\n",
       "        vertical-align: middle;\n",
       "    }\n",
       "\n",
       "    .dataframe tbody tr th {\n",
       "        vertical-align: top;\n",
       "    }\n",
       "\n",
       "    .dataframe thead th {\n",
       "        text-align: right;\n",
       "    }\n",
       "</style>\n",
       "<table border=\"1\" class=\"dataframe\">\n",
       "  <thead>\n",
       "    <tr style=\"text-align: right;\">\n",
       "      <th></th>\n",
       "      <th>status</th>\n",
       "      <th>price</th>\n",
       "      <th>bed</th>\n",
       "      <th>bath</th>\n",
       "      <th>acre_lot</th>\n",
       "      <th>full_address</th>\n",
       "      <th>street</th>\n",
       "      <th>city</th>\n",
       "      <th>state</th>\n",
       "      <th>zip_code</th>\n",
       "      <th>house_size</th>\n",
       "      <th>sold_date</th>\n",
       "    </tr>\n",
       "  </thead>\n",
       "  <tbody>\n",
       "    <tr>\n",
       "      <th>24231</th>\n",
       "      <td>for_sale</td>\n",
       "      <td>180000.0</td>\n",
       "      <td>2.0</td>\n",
       "      <td>1.0</td>\n",
       "      <td>0.34</td>\n",
       "      <td>23 Moore St, Agawam, MA, 01001</td>\n",
       "      <td>23 Moore St</td>\n",
       "      <td>Agawam</td>\n",
       "      <td>Massachusetts</td>\n",
       "      <td>1001.0</td>\n",
       "      <td>676.0</td>\n",
       "      <td>NaN</td>\n",
       "    </tr>\n",
       "    <tr>\n",
       "      <th>24232</th>\n",
       "      <td>for_sale</td>\n",
       "      <td>25000.0</td>\n",
       "      <td>NaN</td>\n",
       "      <td>NaN</td>\n",
       "      <td>3.41</td>\n",
       "      <td>Leonard St, Agawam, MA, 01001</td>\n",
       "      <td>Leonard St</td>\n",
       "      <td>Agawam</td>\n",
       "      <td>Massachusetts</td>\n",
       "      <td>1001.0</td>\n",
       "      <td>NaN</td>\n",
       "      <td>NaN</td>\n",
       "    </tr>\n",
       "    <tr>\n",
       "      <th>24233</th>\n",
       "      <td>for_sale</td>\n",
       "      <td>169900.0</td>\n",
       "      <td>2.0</td>\n",
       "      <td>2.0</td>\n",
       "      <td>NaN</td>\n",
       "      <td>420 Main St Apt 42, Agawam, MA, 01001</td>\n",
       "      <td>420 Main St Apt 42</td>\n",
       "      <td>Agawam</td>\n",
       "      <td>Massachusetts</td>\n",
       "      <td>1001.0</td>\n",
       "      <td>892.0</td>\n",
       "      <td>2019-04-30</td>\n",
       "    </tr>\n",
       "    <tr>\n",
       "      <th>24234</th>\n",
       "      <td>for_sale</td>\n",
       "      <td>242000.0</td>\n",
       "      <td>2.0</td>\n",
       "      <td>2.0</td>\n",
       "      <td>NaN</td>\n",
       "      <td>2A Mansion Woods Dr Unit 2A, Agawam, MA, 01001</td>\n",
       "      <td>2A Mansion Woods Dr Unit 2A</td>\n",
       "      <td>Agawam</td>\n",
       "      <td>Massachusetts</td>\n",
       "      <td>1001.0</td>\n",
       "      <td>1428.0</td>\n",
       "      <td>NaN</td>\n",
       "    </tr>\n",
       "    <tr>\n",
       "      <th>24235</th>\n",
       "      <td>for_sale</td>\n",
       "      <td>299950.0</td>\n",
       "      <td>2.0</td>\n",
       "      <td>2.0</td>\n",
       "      <td>NaN</td>\n",
       "      <td>19 Castle Hill Rd Unit C, Agawam, MA, 01001</td>\n",
       "      <td>19 Castle Hill Rd Unit C</td>\n",
       "      <td>Agawam</td>\n",
       "      <td>Massachusetts</td>\n",
       "      <td>1001.0</td>\n",
       "      <td>1659.0</td>\n",
       "      <td>NaN</td>\n",
       "    </tr>\n",
       "    <tr>\n",
       "      <th>...</th>\n",
       "      <td>...</td>\n",
       "      <td>...</td>\n",
       "      <td>...</td>\n",
       "      <td>...</td>\n",
       "      <td>...</td>\n",
       "      <td>...</td>\n",
       "      <td>...</td>\n",
       "      <td>...</td>\n",
       "      <td>...</td>\n",
       "      <td>...</td>\n",
       "      <td>...</td>\n",
       "      <td>...</td>\n",
       "    </tr>\n",
       "    <tr>\n",
       "      <th>923154</th>\n",
       "      <td>for_sale</td>\n",
       "      <td>445000.0</td>\n",
       "      <td>1.0</td>\n",
       "      <td>2.0</td>\n",
       "      <td>0.99</td>\n",
       "      <td>1008 King St, Chappaqua, NY, 10514</td>\n",
       "      <td>1008 King St</td>\n",
       "      <td>Chappaqua</td>\n",
       "      <td>New York</td>\n",
       "      <td>10514.0</td>\n",
       "      <td>1052.0</td>\n",
       "      <td>2011-05-09</td>\n",
       "    </tr>\n",
       "    <tr>\n",
       "      <th>923155</th>\n",
       "      <td>for_sale</td>\n",
       "      <td>418000.0</td>\n",
       "      <td>4.0</td>\n",
       "      <td>2.0</td>\n",
       "      <td>0.40</td>\n",
       "      <td>3 Elmwood Dr, Monroe, NY, 10950</td>\n",
       "      <td>3 Elmwood Dr</td>\n",
       "      <td>Monroe</td>\n",
       "      <td>New York</td>\n",
       "      <td>10950.0</td>\n",
       "      <td>1650.0</td>\n",
       "      <td>2015-07-21</td>\n",
       "    </tr>\n",
       "    <tr>\n",
       "      <th>923156</th>\n",
       "      <td>for_sale</td>\n",
       "      <td>469000.0</td>\n",
       "      <td>4.0</td>\n",
       "      <td>2.0</td>\n",
       "      <td>0.18</td>\n",
       "      <td>13 N Conger Ave, Congers, NY, 10920</td>\n",
       "      <td>13 N Conger Ave</td>\n",
       "      <td>Congers</td>\n",
       "      <td>New York</td>\n",
       "      <td>10920.0</td>\n",
       "      <td>2123.0</td>\n",
       "      <td>NaN</td>\n",
       "    </tr>\n",
       "    <tr>\n",
       "      <th>923157</th>\n",
       "      <td>for_sale</td>\n",
       "      <td>825000.0</td>\n",
       "      <td>5.0</td>\n",
       "      <td>5.0</td>\n",
       "      <td>0.79</td>\n",
       "      <td>7 Miller Rd, Valley Cottage, NY, 10989</td>\n",
       "      <td>7 Miller Rd</td>\n",
       "      <td>Valley Cottage</td>\n",
       "      <td>New York</td>\n",
       "      <td>10989.0</td>\n",
       "      <td>3775.0</td>\n",
       "      <td>2010-06-02</td>\n",
       "    </tr>\n",
       "    <tr>\n",
       "      <th>923158</th>\n",
       "      <td>for_sale</td>\n",
       "      <td>88000.0</td>\n",
       "      <td>NaN</td>\n",
       "      <td>NaN</td>\n",
       "      <td>35.00</td>\n",
       "      <td>D18 Half Moon Bay Dr, Croton On Hudson, NY, 10520</td>\n",
       "      <td>D18 Half Moon Bay Dr</td>\n",
       "      <td>Croton On Hudson</td>\n",
       "      <td>New York</td>\n",
       "      <td>10520.0</td>\n",
       "      <td>780.0</td>\n",
       "      <td>NaN</td>\n",
       "    </tr>\n",
       "  </tbody>\n",
       "</table>\n",
       "<p>894144 rows × 12 columns</p>\n",
       "</div>"
      ],
      "text/plain": [
       "          status     price  bed  bath  acre_lot  \\\n",
       "24231   for_sale  180000.0  2.0   1.0      0.34   \n",
       "24232   for_sale   25000.0  NaN   NaN      3.41   \n",
       "24233   for_sale  169900.0  2.0   2.0       NaN   \n",
       "24234   for_sale  242000.0  2.0   2.0       NaN   \n",
       "24235   for_sale  299950.0  2.0   2.0       NaN   \n",
       "...          ...       ...  ...   ...       ...   \n",
       "923154  for_sale  445000.0  1.0   2.0      0.99   \n",
       "923155  for_sale  418000.0  4.0   2.0      0.40   \n",
       "923156  for_sale  469000.0  4.0   2.0      0.18   \n",
       "923157  for_sale  825000.0  5.0   5.0      0.79   \n",
       "923158  for_sale   88000.0  NaN   NaN     35.00   \n",
       "\n",
       "                                             full_address  \\\n",
       "24231                      23 Moore St, Agawam, MA, 01001   \n",
       "24232                       Leonard St, Agawam, MA, 01001   \n",
       "24233               420 Main St Apt 42, Agawam, MA, 01001   \n",
       "24234      2A Mansion Woods Dr Unit 2A, Agawam, MA, 01001   \n",
       "24235         19 Castle Hill Rd Unit C, Agawam, MA, 01001   \n",
       "...                                                   ...   \n",
       "923154                 1008 King St, Chappaqua, NY, 10514   \n",
       "923155                    3 Elmwood Dr, Monroe, NY, 10950   \n",
       "923156                13 N Conger Ave, Congers, NY, 10920   \n",
       "923157             7 Miller Rd, Valley Cottage, NY, 10989   \n",
       "923158  D18 Half Moon Bay Dr, Croton On Hudson, NY, 10520   \n",
       "\n",
       "                             street              city          state  \\\n",
       "24231                   23 Moore St            Agawam  Massachusetts   \n",
       "24232                    Leonard St            Agawam  Massachusetts   \n",
       "24233            420 Main St Apt 42            Agawam  Massachusetts   \n",
       "24234   2A Mansion Woods Dr Unit 2A            Agawam  Massachusetts   \n",
       "24235      19 Castle Hill Rd Unit C            Agawam  Massachusetts   \n",
       "...                             ...               ...            ...   \n",
       "923154                 1008 King St         Chappaqua       New York   \n",
       "923155                 3 Elmwood Dr            Monroe       New York   \n",
       "923156              13 N Conger Ave           Congers       New York   \n",
       "923157                  7 Miller Rd    Valley Cottage       New York   \n",
       "923158         D18 Half Moon Bay Dr  Croton On Hudson       New York   \n",
       "\n",
       "        zip_code  house_size   sold_date  \n",
       "24231     1001.0       676.0         NaN  \n",
       "24232     1001.0         NaN         NaN  \n",
       "24233     1001.0       892.0  2019-04-30  \n",
       "24234     1001.0      1428.0         NaN  \n",
       "24235     1001.0      1659.0         NaN  \n",
       "...          ...         ...         ...  \n",
       "923154   10514.0      1052.0  2011-05-09  \n",
       "923155   10950.0      1650.0  2015-07-21  \n",
       "923156   10920.0      2123.0         NaN  \n",
       "923157   10989.0      3775.0  2010-06-02  \n",
       "923158   10520.0       780.0         NaN  \n",
       "\n",
       "[894144 rows x 12 columns]"
      ]
     },
     "metadata": {},
     "output_type": "display_data"
    },
    {
     "data": {
      "text/plain": [
       "state\n",
       "Connecticut       91632\n",
       "Delaware           2092\n",
       "Maine             36650\n",
       "Massachusetts    174488\n",
       "New Hampshire     51394\n",
       "New Jersey       232997\n",
       "New York         211769\n",
       "Pennsylvania      17066\n",
       "Rhode Island      29596\n",
       "Vermont           46460\n",
       "Name: status, dtype: int64"
      ]
     },
     "metadata": {},
     "output_type": "display_data"
    }
   ],
   "source": [
    "# Drop states that have 100 and less properties available\n",
    "state_counts = filtered_df.groupby(\"state\")[\"status\"].size()\n",
    "state_counts = state_counts[state_counts >= 100]\n",
    "selected_states = state_counts.index.tolist()\n",
    "selected_df = filtered_df[filtered_df[\"state\"].isin(selected_states)]\n",
    "\n",
    "# Display dataframe\n",
    "display(selected_df)\n",
    "\n",
    "# Display unique states with available property count\n",
    "display(state_counts)"
   ]
  },
  {
   "cell_type": "markdown",
   "id": "3bdd9c57-5656-4891-bac4-a36773d6e9b5",
   "metadata": {},
   "source": [
    "### Find number of `rows` & `columns` for the states selected dataframe"
   ]
  },
  {
   "cell_type": "code",
   "execution_count": 14,
   "id": "04f493f1-d4e9-4db2-aac5-43e37893a45b",
   "metadata": {},
   "outputs": [
    {
     "data": {
      "text/plain": [
       "(894144, 12)"
      ]
     },
     "execution_count": 14,
     "metadata": {},
     "output_type": "execute_result"
    }
   ],
   "source": [
    "# Get data shape to get number of rows and columns\n",
    "selected_df.shape"
   ]
  },
  {
   "cell_type": "markdown",
   "id": "6126293e-7fe8-4e94-b232-8ecc4d3a3a94",
   "metadata": {},
   "source": [
    "## List data for all available states in alphabetical order for data analysis"
   ]
  },
  {
   "cell_type": "code",
   "execution_count": 15,
   "id": "83810d8a-1429-4486-918f-be8657790086",
   "metadata": {},
   "outputs": [
    {
     "data": {
      "text/html": [
       "<div>\n",
       "<style scoped>\n",
       "    .dataframe tbody tr th:only-of-type {\n",
       "        vertical-align: middle;\n",
       "    }\n",
       "\n",
       "    .dataframe tbody tr th {\n",
       "        vertical-align: top;\n",
       "    }\n",
       "\n",
       "    .dataframe thead th {\n",
       "        text-align: right;\n",
       "    }\n",
       "</style>\n",
       "<table border=\"1\" class=\"dataframe\">\n",
       "  <thead>\n",
       "    <tr style=\"text-align: right;\">\n",
       "      <th></th>\n",
       "      <th>status</th>\n",
       "      <th>price</th>\n",
       "      <th>bed</th>\n",
       "      <th>bath</th>\n",
       "      <th>acre_lot</th>\n",
       "      <th>full_address</th>\n",
       "      <th>street</th>\n",
       "      <th>city</th>\n",
       "      <th>state</th>\n",
       "      <th>zip_code</th>\n",
       "      <th>house_size</th>\n",
       "      <th>sold_date</th>\n",
       "    </tr>\n",
       "  </thead>\n",
       "  <tbody>\n",
       "    <tr>\n",
       "      <th>394904</th>\n",
       "      <td>for_sale</td>\n",
       "      <td>400000.0</td>\n",
       "      <td>4.0</td>\n",
       "      <td>3.0</td>\n",
       "      <td>0.77</td>\n",
       "      <td>15 Banks Rd, Simsbury, CT, 06070</td>\n",
       "      <td>15 Banks Rd</td>\n",
       "      <td>Simsbury</td>\n",
       "      <td>Connecticut</td>\n",
       "      <td>6070.0</td>\n",
       "      <td>2468.0</td>\n",
       "      <td>2021-10-18</td>\n",
       "    </tr>\n",
       "    <tr>\n",
       "      <th>414805</th>\n",
       "      <td>for_sale</td>\n",
       "      <td>77000.0</td>\n",
       "      <td>2.0</td>\n",
       "      <td>1.0</td>\n",
       "      <td>NaN</td>\n",
       "      <td>5 Poplar Ln Unit A, Mansfield, CT, 06250</td>\n",
       "      <td>5 Poplar Ln Unit A</td>\n",
       "      <td>Mansfield</td>\n",
       "      <td>Connecticut</td>\n",
       "      <td>6250.0</td>\n",
       "      <td>810.0</td>\n",
       "      <td>NaN</td>\n",
       "    </tr>\n",
       "    <tr>\n",
       "      <th>414806</th>\n",
       "      <td>for_sale</td>\n",
       "      <td>150000.0</td>\n",
       "      <td>2.0</td>\n",
       "      <td>2.0</td>\n",
       "      <td>0.70</td>\n",
       "      <td>2 Mission St, Sprague, CT, 06330</td>\n",
       "      <td>2 Mission St</td>\n",
       "      <td>Sprague</td>\n",
       "      <td>Connecticut</td>\n",
       "      <td>6330.0</td>\n",
       "      <td>3972.0</td>\n",
       "      <td>NaN</td>\n",
       "    </tr>\n",
       "    <tr>\n",
       "      <th>414807</th>\n",
       "      <td>for_sale</td>\n",
       "      <td>399900.0</td>\n",
       "      <td>4.0</td>\n",
       "      <td>3.0</td>\n",
       "      <td>1.78</td>\n",
       "      <td>113 Laurel Hill Rd, Brooklyn, CT, 06234</td>\n",
       "      <td>113 Laurel Hill Rd</td>\n",
       "      <td>Brooklyn</td>\n",
       "      <td>Connecticut</td>\n",
       "      <td>6234.0</td>\n",
       "      <td>2904.0</td>\n",
       "      <td>1999-12-16</td>\n",
       "    </tr>\n",
       "    <tr>\n",
       "      <th>414808</th>\n",
       "      <td>for_sale</td>\n",
       "      <td>209000.0</td>\n",
       "      <td>5.0</td>\n",
       "      <td>3.0</td>\n",
       "      <td>0.29</td>\n",
       "      <td>272 Prospect St, Windham, CT, 06226</td>\n",
       "      <td>272 Prospect St</td>\n",
       "      <td>Windham</td>\n",
       "      <td>Connecticut</td>\n",
       "      <td>6226.0</td>\n",
       "      <td>2848.0</td>\n",
       "      <td>1999-08-31</td>\n",
       "    </tr>\n",
       "  </tbody>\n",
       "</table>\n",
       "</div>"
      ],
      "text/plain": [
       "          status     price  bed  bath  acre_lot  \\\n",
       "394904  for_sale  400000.0  4.0   3.0      0.77   \n",
       "414805  for_sale   77000.0  2.0   1.0       NaN   \n",
       "414806  for_sale  150000.0  2.0   2.0      0.70   \n",
       "414807  for_sale  399900.0  4.0   3.0      1.78   \n",
       "414808  for_sale  209000.0  5.0   3.0      0.29   \n",
       "\n",
       "                                    full_address              street  \\\n",
       "394904          15 Banks Rd, Simsbury, CT, 06070         15 Banks Rd   \n",
       "414805  5 Poplar Ln Unit A, Mansfield, CT, 06250  5 Poplar Ln Unit A   \n",
       "414806          2 Mission St, Sprague, CT, 06330        2 Mission St   \n",
       "414807   113 Laurel Hill Rd, Brooklyn, CT, 06234  113 Laurel Hill Rd   \n",
       "414808       272 Prospect St, Windham, CT, 06226     272 Prospect St   \n",
       "\n",
       "             city        state  zip_code  house_size   sold_date  \n",
       "394904   Simsbury  Connecticut    6070.0      2468.0  2021-10-18  \n",
       "414805  Mansfield  Connecticut    6250.0       810.0         NaN  \n",
       "414806    Sprague  Connecticut    6330.0      3972.0         NaN  \n",
       "414807   Brooklyn  Connecticut    6234.0      2904.0  1999-12-16  \n",
       "414808    Windham  Connecticut    6226.0      2848.0  1999-08-31  "
      ]
     },
     "metadata": {},
     "output_type": "display_data"
    },
    {
     "name": "stdout",
     "output_type": "stream",
     "text": [
      "-------------------------------------------------------------------------------------------------\n"
     ]
    },
    {
     "data": {
      "text/html": [
       "<div>\n",
       "<style scoped>\n",
       "    .dataframe tbody tr th:only-of-type {\n",
       "        vertical-align: middle;\n",
       "    }\n",
       "\n",
       "    .dataframe tbody tr th {\n",
       "        vertical-align: top;\n",
       "    }\n",
       "\n",
       "    .dataframe thead th {\n",
       "        text-align: right;\n",
       "    }\n",
       "</style>\n",
       "<table border=\"1\" class=\"dataframe\">\n",
       "  <thead>\n",
       "    <tr style=\"text-align: right;\">\n",
       "      <th></th>\n",
       "      <th>status</th>\n",
       "      <th>price</th>\n",
       "      <th>bed</th>\n",
       "      <th>bath</th>\n",
       "      <th>acre_lot</th>\n",
       "      <th>full_address</th>\n",
       "      <th>street</th>\n",
       "      <th>city</th>\n",
       "      <th>state</th>\n",
       "      <th>zip_code</th>\n",
       "      <th>house_size</th>\n",
       "      <th>sold_date</th>\n",
       "    </tr>\n",
       "  </thead>\n",
       "  <tbody>\n",
       "    <tr>\n",
       "      <th>348547</th>\n",
       "      <td>for_sale</td>\n",
       "      <td>152500.0</td>\n",
       "      <td>7.0</td>\n",
       "      <td>2.0</td>\n",
       "      <td>0.2</td>\n",
       "      <td>6943 Main St, Readsboro, VT, 05350</td>\n",
       "      <td>6943 Main St</td>\n",
       "      <td>Readsboro</td>\n",
       "      <td>Vermont</td>\n",
       "      <td>5350.0</td>\n",
       "      <td>2912.0</td>\n",
       "      <td>2020-07-02</td>\n",
       "    </tr>\n",
       "    <tr>\n",
       "      <th>348546</th>\n",
       "      <td>for_sale</td>\n",
       "      <td>134900.0</td>\n",
       "      <td>1.0</td>\n",
       "      <td>1.0</td>\n",
       "      <td>NaN</td>\n",
       "      <td>2185 Drake Rd Unit 4, Castleton, VT, 05735</td>\n",
       "      <td>2185 Drake Rd Unit 4</td>\n",
       "      <td>Castleton</td>\n",
       "      <td>Vermont</td>\n",
       "      <td>5735.0</td>\n",
       "      <td>780.0</td>\n",
       "      <td>NaN</td>\n",
       "    </tr>\n",
       "    <tr>\n",
       "      <th>277594</th>\n",
       "      <td>for_sale</td>\n",
       "      <td>79900.0</td>\n",
       "      <td>2.0</td>\n",
       "      <td>1.0</td>\n",
       "      <td>0.5</td>\n",
       "      <td>496 Vermont Route 106, Weathersfield, VT, 05151</td>\n",
       "      <td>496 Vermont Route 106</td>\n",
       "      <td>Weathersfield</td>\n",
       "      <td>Vermont</td>\n",
       "      <td>5151.0</td>\n",
       "      <td>520.0</td>\n",
       "      <td>NaN</td>\n",
       "    </tr>\n",
       "    <tr>\n",
       "      <th>348559</th>\n",
       "      <td>for_sale</td>\n",
       "      <td>4850000.0</td>\n",
       "      <td>6.0</td>\n",
       "      <td>10.0</td>\n",
       "      <td>18.7</td>\n",
       "      <td>135 Paddock Farm Ln, Dorset, VT, 05251</td>\n",
       "      <td>135 Paddock Farm Ln</td>\n",
       "      <td>Dorset</td>\n",
       "      <td>Vermont</td>\n",
       "      <td>5251.0</td>\n",
       "      <td>12126.0</td>\n",
       "      <td>NaN</td>\n",
       "    </tr>\n",
       "    <tr>\n",
       "      <th>370302</th>\n",
       "      <td>for_sale</td>\n",
       "      <td>599000.0</td>\n",
       "      <td>NaN</td>\n",
       "      <td>NaN</td>\n",
       "      <td>74.4</td>\n",
       "      <td>2156 Blackmer Blvd, Stockbridge, VT, 05772</td>\n",
       "      <td>2156 Blackmer Blvd</td>\n",
       "      <td>Stockbridge</td>\n",
       "      <td>Vermont</td>\n",
       "      <td>5772.0</td>\n",
       "      <td>NaN</td>\n",
       "      <td>NaN</td>\n",
       "    </tr>\n",
       "  </tbody>\n",
       "</table>\n",
       "</div>"
      ],
      "text/plain": [
       "          status      price  bed  bath  acre_lot  \\\n",
       "348547  for_sale   152500.0  7.0   2.0       0.2   \n",
       "348546  for_sale   134900.0  1.0   1.0       NaN   \n",
       "277594  for_sale    79900.0  2.0   1.0       0.5   \n",
       "348559  for_sale  4850000.0  6.0  10.0      18.7   \n",
       "370302  for_sale   599000.0  NaN   NaN      74.4   \n",
       "\n",
       "                                           full_address  \\\n",
       "348547               6943 Main St, Readsboro, VT, 05350   \n",
       "348546       2185 Drake Rd Unit 4, Castleton, VT, 05735   \n",
       "277594  496 Vermont Route 106, Weathersfield, VT, 05151   \n",
       "348559           135 Paddock Farm Ln, Dorset, VT, 05251   \n",
       "370302       2156 Blackmer Blvd, Stockbridge, VT, 05772   \n",
       "\n",
       "                       street           city    state  zip_code  house_size  \\\n",
       "348547           6943 Main St      Readsboro  Vermont    5350.0      2912.0   \n",
       "348546   2185 Drake Rd Unit 4      Castleton  Vermont    5735.0       780.0   \n",
       "277594  496 Vermont Route 106  Weathersfield  Vermont    5151.0       520.0   \n",
       "348559    135 Paddock Farm Ln         Dorset  Vermont    5251.0     12126.0   \n",
       "370302     2156 Blackmer Blvd    Stockbridge  Vermont    5772.0         NaN   \n",
       "\n",
       "         sold_date  \n",
       "348547  2020-07-02  \n",
       "348546         NaN  \n",
       "277594         NaN  \n",
       "348559         NaN  \n",
       "370302         NaN  "
      ]
     },
     "metadata": {},
     "output_type": "display_data"
    }
   ],
   "source": [
    "# Sort values by alphabetical state order\n",
    "sorted_state_df = selected_df.sort_values(\"state\", ascending=True)\n",
    "\n",
    "display(sorted_state_df.head(5))\n",
    "print(\"-------------------------------------------------------------------------------------------------\")\n",
    "display(sorted_state_df.tail(5))"
   ]
  },
  {
   "cell_type": "markdown",
   "id": "e2f51303-b0dc-4b5c-8d78-b7edcddee9e6",
   "metadata": {},
   "source": [
    "### List all unique mainland states for analysis"
   ]
  },
  {
   "cell_type": "code",
   "execution_count": 16,
   "id": "ad26b05a-103b-45ac-9050-326b16a5a592",
   "metadata": {},
   "outputs": [
    {
     "data": {
      "text/plain": [
       "array(['Connecticut', 'Delaware', 'Maine', 'Massachusetts',\n",
       "       'New Hampshire', 'New Jersey', 'New York', 'Pennsylvania',\n",
       "       'Rhode Island', 'Vermont'], dtype=object)"
      ]
     },
     "metadata": {},
     "output_type": "display_data"
    }
   ],
   "source": [
    "# Display filtered states & datatypes by count\n",
    "unique_states = sorted_state_df[\"state\"].unique()\n",
    "display(unique_states)"
   ]
  },
  {
   "cell_type": "markdown",
   "id": "0e8e2400-ae54-4be5-860b-b27945f84a62",
   "metadata": {},
   "source": [
    "### Show counts of `NaN` values"
   ]
  },
  {
   "cell_type": "code",
   "execution_count": 17,
   "id": "efd10412-d70f-4b37-84b9-ce54c558a95d",
   "metadata": {},
   "outputs": [
    {
     "data": {
      "text/plain": [
       "status               0\n",
       "price                0\n",
       "bed             126429\n",
       "bath            108468\n",
       "acre_lot        266003\n",
       "full_address         0\n",
       "street            2093\n",
       "city                23\n",
       "state                0\n",
       "zip_code            25\n",
       "house_size      292240\n",
       "sold_date       437861\n",
       "dtype: int64"
      ]
     },
     "metadata": {},
     "output_type": "display_data"
    }
   ],
   "source": [
    "# Count the NaN values in each column\n",
    "nan_counts = sorted_state_df.isna().sum()\n",
    "\n",
    "# Print the NaN counts for each column\n",
    "display(nan_counts)"
   ]
  },
  {
   "cell_type": "markdown",
   "id": "c6057804-2afe-4cbb-a9d1-c2f13b7df265",
   "metadata": {},
   "source": [
    "# ---------------------------------------------------------------------------------------"
   ]
  },
  {
   "cell_type": "markdown",
   "id": "58a0959f-f393-4e46-b651-6e5191f2d1a5",
   "metadata": {},
   "source": [
    "## Fill empty values using `sklearn`"
   ]
  },
  {
   "cell_type": "markdown",
   "id": "d937ff17-b15e-421c-9ae2-4c0cc4fcc760",
   "metadata": {},
   "source": [
    "### Fill missing `zip_code` values"
   ]
  },
  {
   "cell_type": "code",
   "execution_count": 18,
   "id": "63ac1cce-f3db-4a68-8f91-49505db5cca9",
   "metadata": {},
   "outputs": [],
   "source": [
    "# Import KNNImputer function from the sklearn python package\n",
    "from sklearn.impute import KNNImputer\n",
    "\n",
    "# Create a KNN imputer object with k=5 and 'uniform' weighting\n",
    "imputer = KNNImputer(n_neighbors=5, weights='uniform')\n",
    "\n",
    "# Only select the 'zip_code' column with missing values\n",
    "zip_df = sorted_state_df[['zip_code']]\n",
    "\n",
    "# Impute missing 'zip_code' values using KNN imputation\n",
    "zip_imputed = imputer.fit_transform(zip_df)\n",
    "\n",
    "# Replace the original 'zip_code' column with the imputed values\n",
    "sorted_state_df['zip_code'] = zip_imputed"
   ]
  },
  {
   "cell_type": "code",
   "execution_count": 19,
   "id": "e884a781-46f3-420e-82d9-a902d593b541",
   "metadata": {},
   "outputs": [
    {
     "data": {
      "text/plain": [
       "status               0\n",
       "price                0\n",
       "bed             126429\n",
       "bath            108468\n",
       "acre_lot        266003\n",
       "full_address         0\n",
       "street            2093\n",
       "city                23\n",
       "state                0\n",
       "zip_code             0\n",
       "house_size      292240\n",
       "sold_date       437861\n",
       "dtype: int64"
      ]
     },
     "metadata": {},
     "output_type": "display_data"
    }
   ],
   "source": [
    "# Count the NaN values in each column\n",
    "nan_counts = sorted_state_df.isna().sum()\n",
    "\n",
    "# Print the NaN counts for each column\n",
    "display(nan_counts)"
   ]
  },
  {
   "cell_type": "markdown",
   "id": "0b5c3cb3-1f7e-4b8b-b947-d4d16acf1deb",
   "metadata": {},
   "source": [
    "# ---------------------------------------------------------------------------------------"
   ]
  },
  {
   "cell_type": "markdown",
   "id": "2f4945fc-5a78-4e56-97c4-57f2cbcbf89a",
   "metadata": {},
   "source": [
    "### Fill missing `city` values using `zip_code`"
   ]
  },
  {
   "cell_type": "code",
   "execution_count": 20,
   "id": "6491616c-e9c5-4e62-bc17-d75d88bb5bcc",
   "metadata": {},
   "outputs": [],
   "source": [
    "# Group by zip_code and calculate mode of city for each group\n",
    "mode_by_zip = sorted_state_df.groupby('zip_code')['city'].apply(lambda x: x.mode()[0])\n",
    "\n",
    "# Create a boolean mask to identify the rows with missing city values\n",
    "missing_city_mask = sorted_state_df['city'].isna()\n",
    "\n",
    "# Fill in missing city values with corresponding mode for their zip_code\n",
    "sorted_state_df.loc[missing_city_mask, 'city'] = sorted_state_df.loc[missing_city_mask, 'zip_code'].map(mode_by_zip)"
   ]
  },
  {
   "cell_type": "markdown",
   "id": "6455ee80-9431-4991-8201-ba85c0a7afb1",
   "metadata": {},
   "source": [
    "### Show all missing counts"
   ]
  },
  {
   "cell_type": "code",
   "execution_count": 21,
   "id": "9687fc4a-18b1-4cfe-8e83-ee2ec0492bbe",
   "metadata": {},
   "outputs": [
    {
     "data": {
      "text/plain": [
       "status               0\n",
       "price                0\n",
       "bed             126429\n",
       "bath            108468\n",
       "acre_lot        266003\n",
       "full_address         0\n",
       "street            2093\n",
       "city                 0\n",
       "state                0\n",
       "zip_code             0\n",
       "house_size      292240\n",
       "sold_date       437861\n",
       "dtype: int64"
      ]
     },
     "metadata": {},
     "output_type": "display_data"
    }
   ],
   "source": [
    "# Count the NaN values in each column\n",
    "nan_counts = sorted_state_df.isna().sum()\n",
    "\n",
    "# Print the NaN counts for each column\n",
    "display(nan_counts)"
   ]
  },
  {
   "cell_type": "markdown",
   "id": "ab54f547-198e-4963-8846-2f0abba7ad68",
   "metadata": {},
   "source": [
    "# ---------------------------------------------------------------------------------------"
   ]
  },
  {
   "cell_type": "markdown",
   "id": "23c0c35e-6785-443a-8c8d-c1b42ec157c1",
   "metadata": {},
   "source": [
    "## ML Linear Regression - fill missing values"
   ]
  },
  {
   "cell_type": "markdown",
   "id": "6ba13002-caa5-41a1-9b7f-1dd9878b00fa",
   "metadata": {},
   "source": [
    "### Fill `house_size` using `zip_code` & `price` as features for the Regression model"
   ]
  },
  {
   "cell_type": "code",
   "execution_count": 22,
   "id": "7e474b22-35f8-4989-b195-2ef77d73376c",
   "metadata": {},
   "outputs": [],
   "source": [
    "from sklearn.linear_model import LinearRegression\n",
    "\n",
    "# Split the data into two sets: one with complete data for house_size and another with missing values\n",
    "complete_data = sorted_state_df.dropna(subset=['house_size'])\n",
    "missing_data = sorted_state_df.loc[sorted_state_df['house_size'].isna()]\n",
    "\n",
    "# Define the features to be used in the regression model\n",
    "features = ['zip_code', 'price']\n",
    "\n",
    "# Fit the linear regression model using the complete data\n",
    "reg = LinearRegression().fit(complete_data[features], complete_data['house_size'])\n",
    "\n",
    "# Predict the missing house_size values using the fitted regression model\n",
    "missing_data['house_size'] = reg.predict(missing_data[features])\n",
    "\n",
    "# Replace the missing house_size values with the predicted values\n",
    "sorted_state_df.loc[sorted_state_df['house_size'].isna(), 'house_size'] = missing_data['house_size']"
   ]
  },
  {
   "cell_type": "code",
   "execution_count": 23,
   "id": "bb2dcdd4-b21f-4582-bac1-74102230123b",
   "metadata": {},
   "outputs": [
    {
     "data": {
      "text/plain": [
       "status               0\n",
       "price                0\n",
       "bed             126429\n",
       "bath            108468\n",
       "acre_lot        266003\n",
       "full_address         0\n",
       "street            2093\n",
       "city                 0\n",
       "state                0\n",
       "zip_code             0\n",
       "house_size           0\n",
       "sold_date       437861\n",
       "dtype: int64"
      ]
     },
     "metadata": {},
     "output_type": "display_data"
    }
   ],
   "source": [
    "# Count the NaN values in each column\n",
    "nan_counts = sorted_state_df.isna().sum()\n",
    "\n",
    "# Print the NaN counts for each column\n",
    "display(nan_counts)"
   ]
  },
  {
   "cell_type": "markdown",
   "id": "7aaca7c9-58bb-4a98-8b06-f727b9023360",
   "metadata": {},
   "source": [
    "# ---------------------------------------------------------------------------------------"
   ]
  },
  {
   "cell_type": "markdown",
   "id": "abc14cdd-ce53-4816-adbc-a619044373fa",
   "metadata": {},
   "source": [
    "### Fill `acre_lot` using `zip_code`, `price` & `house_size` as features for the Regression model"
   ]
  },
  {
   "cell_type": "code",
   "execution_count": 24,
   "id": "309d6327-5c0a-4dfb-9f0f-6bf582f9c2e3",
   "metadata": {},
   "outputs": [],
   "source": [
    "# Split the data into two sets: one with complete data for house_size and another with missing values\n",
    "complete_data = sorted_state_df.dropna(subset=['acre_lot'])\n",
    "missing_data = sorted_state_df.loc[sorted_state_df['acre_lot'].isna()]\n",
    "\n",
    "# Define the features to be used in the regression model\n",
    "features = ['zip_code', 'price', 'house_size']\n",
    "\n",
    "# Fit the linear regression model using the complete data\n",
    "reg = LinearRegression().fit(complete_data[features], complete_data['acre_lot'])\n",
    "\n",
    "# Predict the missing house_size values using the fitted regression model\n",
    "missing_data['acre_lot'] = reg.predict(missing_data[features])\n",
    "\n",
    "# Replace the missing house_size values with the predicted values\n",
    "sorted_state_df.loc[sorted_state_df['acre_lot'].isna(), 'acre_lot'] = missing_data['acre_lot']"
   ]
  },
  {
   "cell_type": "code",
   "execution_count": 25,
   "id": "6e6ef709-025d-4990-b088-de767e2b6da2",
   "metadata": {},
   "outputs": [
    {
     "data": {
      "text/plain": [
       "status               0\n",
       "price                0\n",
       "bed             126429\n",
       "bath            108468\n",
       "acre_lot             0\n",
       "full_address         0\n",
       "street            2093\n",
       "city                 0\n",
       "state                0\n",
       "zip_code             0\n",
       "house_size           0\n",
       "sold_date       437861\n",
       "dtype: int64"
      ]
     },
     "metadata": {},
     "output_type": "display_data"
    }
   ],
   "source": [
    "# Count the NaN values in each column\n",
    "nan_counts = sorted_state_df.isna().sum()\n",
    "\n",
    "# Print the NaN counts for each column\n",
    "display(nan_counts)"
   ]
  },
  {
   "cell_type": "markdown",
   "id": "f1981adf-a9fe-4177-90b1-a8b2199a27a6",
   "metadata": {},
   "source": [
    "# ---------------------------------------------------------------------------------------"
   ]
  },
  {
   "cell_type": "markdown",
   "id": "7e95a931-e8b5-4c74-b338-c877178761f2",
   "metadata": {},
   "source": [
    "### Fill `bed` using `zip_code`, `price`, `house_size` & `acre_lot` as features for the Regression model"
   ]
  },
  {
   "cell_type": "code",
   "execution_count": 26,
   "id": "3e6a1b9d-ced8-4acf-a14f-71e5750535d6",
   "metadata": {},
   "outputs": [],
   "source": [
    "# Split the data into two sets: one with complete data for house_size and another with missing values\n",
    "complete_data = sorted_state_df.dropna(subset=['bed'])\n",
    "missing_data = sorted_state_df.loc[sorted_state_df['bed'].isna()]\n",
    "\n",
    "# Define the features to be used in the regression model\n",
    "features = ['zip_code', 'price', 'house_size', 'acre_lot']\n",
    "\n",
    "# Fit the linear regression model using the complete data\n",
    "reg = LinearRegression().fit(complete_data[features], complete_data['bed'])\n",
    "\n",
    "# Predict the missing house_size values using the fitted regression model\n",
    "missing_data['bed'] = reg.predict(missing_data[features])\n",
    "\n",
    "# Replace the missing house_size values with the predicted values\n",
    "sorted_state_df.loc[sorted_state_df['bed'].isna(), 'bed'] = missing_data['bed']"
   ]
  },
  {
   "cell_type": "code",
   "execution_count": 27,
   "id": "d654f994-5bc9-4da8-ba90-287f9eff80f1",
   "metadata": {},
   "outputs": [
    {
     "data": {
      "text/plain": [
       "status               0\n",
       "price                0\n",
       "bed                  0\n",
       "bath            108468\n",
       "acre_lot             0\n",
       "full_address         0\n",
       "street            2093\n",
       "city                 0\n",
       "state                0\n",
       "zip_code             0\n",
       "house_size           0\n",
       "sold_date       437861\n",
       "dtype: int64"
      ]
     },
     "metadata": {},
     "output_type": "display_data"
    }
   ],
   "source": [
    "# Count the NaN values in each column\n",
    "nan_counts = sorted_state_df.isna().sum()\n",
    "\n",
    "# Print the NaN counts for each column\n",
    "display(nan_counts)"
   ]
  },
  {
   "cell_type": "markdown",
   "id": "504091a0-89a9-47b2-b060-c8072f437391",
   "metadata": {},
   "source": [
    "# ---------------------------------------------------------------------------------------"
   ]
  },
  {
   "cell_type": "markdown",
   "id": "7f2f2890-532d-4a09-8797-d0a471754f79",
   "metadata": {},
   "source": [
    "### Fill `bath` using `zip_code`, `price`, `house_size`, `acre_lot` & `bed` as features for the Regression model"
   ]
  },
  {
   "cell_type": "code",
   "execution_count": 28,
   "id": "6459c3a5-5b74-4588-9487-8ab6d6bc7bef",
   "metadata": {},
   "outputs": [],
   "source": [
    "# Split the data into two sets: one with complete data for house_size and another with missing values\n",
    "complete_data = sorted_state_df.dropna(subset=['bath'])\n",
    "missing_data = sorted_state_df.loc[sorted_state_df['bath'].isna()]\n",
    "\n",
    "# Define the features to be used in the regression model\n",
    "features = ['zip_code', 'price', 'house_size', 'acre_lot', 'bed']\n",
    "\n",
    "# Fit the linear regression model using the complete data\n",
    "reg = LinearRegression().fit(complete_data[features], complete_data['bath'])\n",
    "\n",
    "# Predict the missing house_size values using the fitted regression model\n",
    "missing_data['bath'] = reg.predict(missing_data[features])\n",
    "\n",
    "# Replace the missing house_size values with the predicted values\n",
    "sorted_state_df.loc[sorted_state_df['bath'].isna(), 'bath'] = missing_data['bath']"
   ]
  },
  {
   "cell_type": "code",
   "execution_count": 29,
   "id": "67e08fa8-c403-4f61-81ac-8d49197401db",
   "metadata": {},
   "outputs": [
    {
     "data": {
      "text/plain": [
       "status               0\n",
       "price                0\n",
       "bed                  0\n",
       "bath                 0\n",
       "acre_lot             0\n",
       "full_address         0\n",
       "street            2093\n",
       "city                 0\n",
       "state                0\n",
       "zip_code             0\n",
       "house_size           0\n",
       "sold_date       437861\n",
       "dtype: int64"
      ]
     },
     "metadata": {},
     "output_type": "display_data"
    }
   ],
   "source": [
    "# Count the NaN values in each column\n",
    "nan_counts = sorted_state_df.isna().sum()\n",
    "\n",
    "# Print the NaN counts for each column\n",
    "display(nan_counts)"
   ]
  },
  {
   "cell_type": "markdown",
   "id": "0078de4f-cac4-4e14-a044-c41c471ee3da",
   "metadata": {},
   "source": [
    "# ---------------------------------------------------------------------------------------"
   ]
  },
  {
   "cell_type": "markdown",
   "id": "8f10b1e7-779b-4cca-8848-96b9d72563c4",
   "metadata": {},
   "source": [
    "### Fill missing `street` values by extracting values from `full_address`"
   ]
  },
  {
   "cell_type": "code",
   "execution_count": 30,
   "id": "db88886c-512a-4d72-b0bd-7f7f2be2235f",
   "metadata": {},
   "outputs": [],
   "source": [
    "def extract_street_name(address):\n",
    "    # Split the address by commas and take the first element\n",
    "    street_address = address.split(',')[0].strip()\n",
    "    # Split the street address by spaces and take the last two elements\n",
    "    street_name = ' '.join(street_address.split()[-2:])\n",
    "    return street_name\n",
    "\n",
    "# Apply the function to fill in missing street names\n",
    "sorted_state_df['street'] = sorted_state_df['street'].fillna(sorted_state_df['full_address'].apply(extract_street_name))"
   ]
  },
  {
   "cell_type": "code",
   "execution_count": 31,
   "id": "fb1bcdc8-58bf-4b00-9e99-4644d78a5aeb",
   "metadata": {},
   "outputs": [
    {
     "data": {
      "text/plain": [
       "status               0\n",
       "price                0\n",
       "bed                  0\n",
       "bath                 0\n",
       "acre_lot             0\n",
       "full_address         0\n",
       "street               0\n",
       "city                 0\n",
       "state                0\n",
       "zip_code             0\n",
       "house_size           0\n",
       "sold_date       437861\n",
       "dtype: int64"
      ]
     },
     "metadata": {},
     "output_type": "display_data"
    }
   ],
   "source": [
    "# Count the NaN values in each column\n",
    "nan_counts = sorted_state_df.isna().sum()\n",
    "\n",
    "# Print the NaN counts for each column\n",
    "display(nan_counts)"
   ]
  },
  {
   "cell_type": "markdown",
   "id": "58fa64e8-06f5-4abf-b2c1-b9c0e083bd9e",
   "metadata": {},
   "source": [
    "# ---------------------------------------------------------------------------------------"
   ]
  },
  {
   "cell_type": "markdown",
   "id": "3caeb7b7-8213-4f5a-87b3-b3236a85d16f",
   "metadata": {},
   "source": [
    "## Convert columns to appropriate data/ decimal types"
   ]
  },
  {
   "cell_type": "markdown",
   "id": "ce97cd2c-4b37-4d16-b035-35475fc8ca2c",
   "metadata": {},
   "source": [
    "### Round `bed` values to `integer`"
   ]
  },
  {
   "cell_type": "code",
   "execution_count": 32,
   "id": "0f190d26-7e2d-4eee-9cf3-a514e58cb720",
   "metadata": {},
   "outputs": [],
   "source": [
    "# Round bed column to the nearest .0 value on the sorted dataframe\n",
    "sorted_state_df['bed'] = np.rint(sorted_state_df['bed'])"
   ]
  },
  {
   "cell_type": "markdown",
   "id": "988e4baf-b0dd-4d0b-933a-8d5040cf3f28",
   "metadata": {},
   "source": [
    "### Round `bath` values to nearest .0 or .5 value"
   ]
  },
  {
   "cell_type": "code",
   "execution_count": 33,
   "id": "f853c285-5fd7-438d-81ef-c867c7eb6846",
   "metadata": {},
   "outputs": [],
   "source": [
    "# Round `bath` column to the nearest .0 or .5 value\n",
    "sorted_state_df['bath'] = sorted_state_df['bath'].apply(lambda x: round(x * 2) / 2)"
   ]
  },
  {
   "cell_type": "markdown",
   "id": "798ac4be-ce99-42fa-a1ad-55647c477917",
   "metadata": {},
   "source": [
    "### Convert `acre_lot` to 2 decimal places"
   ]
  },
  {
   "cell_type": "code",
   "execution_count": 34,
   "id": "586ef704-f7e0-4ead-a622-6c73dcd001c1",
   "metadata": {},
   "outputs": [],
   "source": [
    "# Convert acre_lot column to 2 decimal places on the dataframe\n",
    "sorted_state_df['acre_lot'] = sorted_state_df['acre_lot'].round(2)\n",
    "\n",
    "# Replace negative acre_lot values with \"Unavailable\" on the dataframe\n",
    "sorted_state_df['acre_lot'] = sorted_state_df['acre_lot'].apply(lambda x: \"Unavailable\" if x < 0 else round(x, 2))"
   ]
  },
  {
   "cell_type": "code",
   "execution_count": 35,
   "id": "a8eabab1-3c03-40bc-b514-71153e090ea0",
   "metadata": {},
   "outputs": [],
   "source": [
    "# Convert house_size column to 1 decimal places on the dataframe\n",
    "sorted_state_df['house_size'] = sorted_state_df['house_size'].round(1)"
   ]
  },
  {
   "cell_type": "markdown",
   "id": "2527a80c-61aa-4ab4-a9da-915e883d9a82",
   "metadata": {},
   "source": [
    "### Convert `zip_code` values to show appropirate 5-digit zipcodes"
   ]
  },
  {
   "cell_type": "code",
   "execution_count": 36,
   "id": "2614dd52-6948-4b22-91ec-f91142aacdb4",
   "metadata": {},
   "outputs": [],
   "source": [
    "# Convert zip_code to string and pad with leading zeros\n",
    "sorted_state_df['zip_code'] = sorted_state_df['zip_code'].astype(int).astype(str).apply(lambda x: x.zfill(5))"
   ]
  },
  {
   "cell_type": "code",
   "execution_count": 37,
   "id": "c667379a-4da7-4d9e-959f-f561328eeb8f",
   "metadata": {},
   "outputs": [
    {
     "name": "stdout",
     "output_type": "stream",
     "text": [
      "<class 'pandas.core.frame.DataFrame'>\n",
      "Int64Index: 894144 entries, 394904 to 370302\n",
      "Data columns (total 12 columns):\n",
      " #   Column        Non-Null Count   Dtype  \n",
      "---  ------        --------------   -----  \n",
      " 0   status        894144 non-null  object \n",
      " 1   price         894144 non-null  float64\n",
      " 2   bed           894144 non-null  float64\n",
      " 3   bath          894144 non-null  float64\n",
      " 4   acre_lot      894144 non-null  object \n",
      " 5   full_address  894144 non-null  object \n",
      " 6   street        894144 non-null  object \n",
      " 7   city          894144 non-null  object \n",
      " 8   state         894144 non-null  object \n",
      " 9   zip_code      894144 non-null  object \n",
      " 10  house_size    894144 non-null  float64\n",
      " 11  sold_date     456283 non-null  object \n",
      "dtypes: float64(4), object(8)\n",
      "memory usage: 88.7+ MB\n"
     ]
    },
    {
     "data": {
      "text/plain": [
       "None"
      ]
     },
     "metadata": {},
     "output_type": "display_data"
    }
   ],
   "source": [
    "# Display info\n",
    "display(sorted_state_df.info())"
   ]
  },
  {
   "cell_type": "code",
   "execution_count": 38,
   "id": "f6b04d4d-bfdd-4298-94e9-3346bc617d94",
   "metadata": {},
   "outputs": [
    {
     "data": {
      "text/plain": [
       "status               0\n",
       "price                0\n",
       "bed                  0\n",
       "bath                 0\n",
       "acre_lot             0\n",
       "full_address         0\n",
       "street               0\n",
       "city                 0\n",
       "state                0\n",
       "zip_code             0\n",
       "house_size           0\n",
       "sold_date       437861\n",
       "dtype: int64"
      ]
     },
     "metadata": {},
     "output_type": "display_data"
    }
   ],
   "source": [
    "# Count the NaN values in each column\n",
    "nan_counts = sorted_state_df.isna().sum()\n",
    "\n",
    "# Print the NaN counts for each column\n",
    "display(nan_counts)"
   ]
  },
  {
   "cell_type": "markdown",
   "id": "0829983c-cd47-4d5b-943c-4c8ba3796a17",
   "metadata": {},
   "source": [
    "# ---------------------------------------------------------------------------------------"
   ]
  },
  {
   "cell_type": "markdown",
   "id": "7969375a-884c-40f4-8f26-dbb1e490ea9f",
   "metadata": {},
   "source": [
    "### Convert all negative `acre_lot` values to 'Unavailable'"
   ]
  },
  {
   "cell_type": "code",
   "execution_count": 39,
   "id": "9bd12946-147a-4f05-9c91-f40894e81503",
   "metadata": {},
   "outputs": [
    {
     "name": "stdout",
     "output_type": "stream",
     "text": [
      "There are 161512 rows where `acre_lot` is 'Unavailable'.\n"
     ]
    }
   ],
   "source": [
    "# Count rows where acre_lot is \"Unavailable\"\n",
    "unavailable_count = (sorted_state_df['acre_lot'] == 'Unavailable').sum()\n",
    "\n",
    "# Print the count\n",
    "print(f\"There are {unavailable_count} rows where `acre_lot` is 'Unavailable'.\")"
   ]
  },
  {
   "cell_type": "markdown",
   "id": "1a6ec3f0-0f9b-4646-bff9-38fb642da6ad",
   "metadata": {},
   "source": [
    "# ---------------------------------------------------------------------------------------"
   ]
  },
  {
   "cell_type": "markdown",
   "id": "e8c06342-ec40-4a00-bbce-43577ecefb60",
   "metadata": {},
   "source": [
    "### Convert all missing `sold_date` values to 'Unavailable'"
   ]
  },
  {
   "cell_type": "code",
   "execution_count": 40,
   "id": "0582df2b-4873-492e-a165-622da35c62c3",
   "metadata": {},
   "outputs": [
    {
     "name": "stdout",
     "output_type": "stream",
     "text": [
      "There are 437861 rows where `sold_date` is 'Unavailable'.\n"
     ]
    }
   ],
   "source": [
    "# Replace missing sold_date values with \"Unavailable\"\n",
    "sorted_state_df[\"sold_date\"].fillna(\"Unavailable\", inplace=True)\n",
    "\n",
    "# Count the number of \"Unavailable\" sold_date values\n",
    "unavailable_count = (sorted_state_df[\"sold_date\"] == \"Unavailable\").sum()\n",
    "\n",
    "# Print the count of \"Unavailable\" sold_date values\n",
    "print(f\"There are {unavailable_count} rows where `sold_date` is 'Unavailable'.\")"
   ]
  },
  {
   "cell_type": "code",
   "execution_count": 41,
   "id": "7ddb0c6e-131d-4b59-b849-ab405a6cf105",
   "metadata": {},
   "outputs": [
    {
     "data": {
      "text/plain": [
       "status          0\n",
       "price           0\n",
       "bed             0\n",
       "bath            0\n",
       "acre_lot        0\n",
       "full_address    0\n",
       "street          0\n",
       "city            0\n",
       "state           0\n",
       "zip_code        0\n",
       "house_size      0\n",
       "sold_date       0\n",
       "dtype: int64"
      ]
     },
     "metadata": {},
     "output_type": "display_data"
    }
   ],
   "source": [
    "# Count the NaN values in each column again\n",
    "nan_counts = sorted_state_df.isna().sum()\n",
    "\n",
    "# Print the NaN counts for each column\n",
    "display(nan_counts)"
   ]
  },
  {
   "cell_type": "markdown",
   "id": "83f10c37-f112-4007-aae8-2e50b7d951a7",
   "metadata": {},
   "source": [
    "# ---------------------------------------------------------------------------------------"
   ]
  },
  {
   "cell_type": "markdown",
   "id": "bdcbf46c-883c-4dcf-a54e-0e8f32577cac",
   "metadata": {},
   "source": [
    "### Add a new column to `price_sq_ft` that shows a ratio of `price` / `house_size`"
   ]
  },
  {
   "cell_type": "code",
   "execution_count": 42,
   "id": "169d458f-27a7-4914-a3a7-1d0537edd2ce",
   "metadata": {},
   "outputs": [],
   "source": [
    "sorted_state_df['price_sq_ft'] = (sorted_state_df['price'] / sorted_state_df['house_size']).round(2)"
   ]
  },
  {
   "cell_type": "markdown",
   "id": "3346f928-c57b-4911-8a7e-39efecca8487",
   "metadata": {},
   "source": [
    "# ---------------------------------------------------------------------------------------"
   ]
  },
  {
   "cell_type": "markdown",
   "id": "e482b5bc-991d-483d-abd0-de9ebf694eec",
   "metadata": {},
   "source": [
    "### Use `bed` and `bath` equals to 1 as starting point"
   ]
  },
  {
   "cell_type": "code",
   "execution_count": 43,
   "id": "c027f26b-76fd-429c-9bc9-524193c63206",
   "metadata": {},
   "outputs": [],
   "source": [
    "sorted_state_df = sorted_state_df.loc[(sorted_state_df['bed'] >= 1) & (sorted_state_df['bath'] >= 1)]"
   ]
  },
  {
   "cell_type": "markdown",
   "id": "dd7663cd-5b42-4ff2-8504-abe05683640a",
   "metadata": {},
   "source": [
    "### Find datatypes of all the columns in `sorted_state_df`. Drop `status` column as everything is `for_sale` now"
   ]
  },
  {
   "cell_type": "code",
   "execution_count": 44,
   "id": "4e7aabb9-008f-40e8-85c1-52c664500a58",
   "metadata": {},
   "outputs": [],
   "source": [
    "sorted_state_df = sorted_state_df.drop('status', axis=1)"
   ]
  },
  {
   "cell_type": "code",
   "execution_count": 45,
   "id": "07c3febe-343a-46a6-bcfc-ef259f0895b7",
   "metadata": {},
   "outputs": [
    {
     "data": {
      "text/plain": [
       "price           float64\n",
       "bed             float64\n",
       "bath            float64\n",
       "acre_lot         object\n",
       "full_address     object\n",
       "street           object\n",
       "city             object\n",
       "state            object\n",
       "zip_code         object\n",
       "house_size      float64\n",
       "sold_date        object\n",
       "price_sq_ft     float64\n",
       "dtype: object"
      ]
     },
     "metadata": {},
     "output_type": "display_data"
    }
   ],
   "source": [
    "display(sorted_state_df.dtypes)"
   ]
  },
  {
   "cell_type": "code",
   "execution_count": 46,
   "id": "25281ddb-cef8-47a1-9034-6f942eaf66df",
   "metadata": {},
   "outputs": [
    {
     "data": {
      "text/plain": [
       "(894115, 12)"
      ]
     },
     "metadata": {},
     "output_type": "display_data"
    }
   ],
   "source": [
    "# Get final dataframe shape\n",
    "display(sorted_state_df.shape)"
   ]
  },
  {
   "cell_type": "markdown",
   "id": "2ed35485-064f-4646-8bfc-de7133d08cf7",
   "metadata": {},
   "source": [
    "# ---------------------------------------------------------------------------------------"
   ]
  },
  {
   "cell_type": "markdown",
   "id": "b0e6f564-67db-4677-8fff-5a767b378334",
   "metadata": {},
   "source": [
    "## Save cleanup file `sorted_state_df` for further data analysis via ML"
   ]
  },
  {
   "cell_type": "code",
   "execution_count": 47,
   "id": "6604398f-e419-44e4-a9e8-deffdffe9ed6",
   "metadata": {},
   "outputs": [],
   "source": [
    "sorted_state_df.to_csv('sorted_state_df.csv', index=False)"
   ]
  },
  {
   "cell_type": "markdown",
   "id": "6fea08f8-d73f-490c-a005-ac87b21d7710",
   "metadata": {},
   "source": [
    "## Create `X` & `y` columns for further training & testing"
   ]
  },
  {
   "cell_type": "code",
   "execution_count": 48,
   "id": "d8fc19f8-7408-4aa8-a729-adda8b693272",
   "metadata": {},
   "outputs": [
    {
     "name": "stdout",
     "output_type": "stream",
     "text": [
      "bed            float64\n",
      "bath           float64\n",
      "house_size     float64\n",
      "price_sq_ft    float64\n",
      "dtype: object\n",
      "float64\n"
     ]
    }
   ],
   "source": [
    "# Select columns for X and y for training & testing\n",
    "X = sorted_state_df[['bed', 'bath', 'house_size', 'price_sq_ft']]\n",
    "print(X.dtypes)\n",
    "y = sorted_state_df['price']\n",
    "print(y.dtypes)"
   ]
  },
  {
   "cell_type": "code",
   "execution_count": 56,
   "id": "bb2e1887-96b8-49c7-bdc2-452b4b350bfb",
   "metadata": {},
   "outputs": [
    {
     "data": {
      "text/html": [
       "<div>\n",
       "<style scoped>\n",
       "    .dataframe tbody tr th:only-of-type {\n",
       "        vertical-align: middle;\n",
       "    }\n",
       "\n",
       "    .dataframe tbody tr th {\n",
       "        vertical-align: top;\n",
       "    }\n",
       "\n",
       "    .dataframe thead th {\n",
       "        text-align: right;\n",
       "    }\n",
       "</style>\n",
       "<table border=\"1\" class=\"dataframe\">\n",
       "  <thead>\n",
       "    <tr style=\"text-align: right;\">\n",
       "      <th></th>\n",
       "      <th>bed</th>\n",
       "      <th>bath</th>\n",
       "      <th>house_size</th>\n",
       "      <th>price_sq_ft</th>\n",
       "    </tr>\n",
       "  </thead>\n",
       "  <tbody>\n",
       "    <tr>\n",
       "      <th>394904</th>\n",
       "      <td>4.0</td>\n",
       "      <td>3.0</td>\n",
       "      <td>2468.0</td>\n",
       "      <td>162.07</td>\n",
       "    </tr>\n",
       "    <tr>\n",
       "      <th>414805</th>\n",
       "      <td>2.0</td>\n",
       "      <td>1.0</td>\n",
       "      <td>810.0</td>\n",
       "      <td>95.06</td>\n",
       "    </tr>\n",
       "    <tr>\n",
       "      <th>414806</th>\n",
       "      <td>2.0</td>\n",
       "      <td>2.0</td>\n",
       "      <td>3972.0</td>\n",
       "      <td>37.76</td>\n",
       "    </tr>\n",
       "    <tr>\n",
       "      <th>414807</th>\n",
       "      <td>4.0</td>\n",
       "      <td>3.0</td>\n",
       "      <td>2904.0</td>\n",
       "      <td>137.71</td>\n",
       "    </tr>\n",
       "    <tr>\n",
       "      <th>414808</th>\n",
       "      <td>5.0</td>\n",
       "      <td>3.0</td>\n",
       "      <td>2848.0</td>\n",
       "      <td>73.38</td>\n",
       "    </tr>\n",
       "  </tbody>\n",
       "</table>\n",
       "</div>"
      ],
      "text/plain": [
       "        bed  bath  house_size  price_sq_ft\n",
       "394904  4.0   3.0      2468.0       162.07\n",
       "414805  2.0   1.0       810.0        95.06\n",
       "414806  2.0   2.0      3972.0        37.76\n",
       "414807  4.0   3.0      2904.0       137.71\n",
       "414808  5.0   3.0      2848.0        73.38"
      ]
     },
     "metadata": {},
     "output_type": "display_data"
    },
    {
     "name": "stdout",
     "output_type": "stream",
     "text": [
      "----------------------------------------\n"
     ]
    },
    {
     "data": {
      "text/plain": [
       "394904    400000.0\n",
       "414805     77000.0\n",
       "414806    150000.0\n",
       "414807    399900.0\n",
       "414808    209000.0\n",
       "Name: price, dtype: float64"
      ]
     },
     "metadata": {},
     "output_type": "display_data"
    }
   ],
   "source": [
    "display(X.head())\n",
    "print(\"----------------------------------------\")\n",
    "display(y.head())"
   ]
  },
  {
   "cell_type": "markdown",
   "id": "8e06ec12-ce4d-4bbb-a483-70fca6a5f5b5",
   "metadata": {},
   "source": [
    "# ---------------------------------------------------------------------------------------"
   ]
  },
  {
   "cell_type": "markdown",
   "id": "11b7ab81-5bbe-4dab-8286-eda26d20fa25",
   "metadata": {},
   "source": [
    "## Split data for training & testing via **sklearn** package"
   ]
  },
  {
   "cell_type": "code",
   "execution_count": 50,
   "id": "4224f078-0e94-43a9-892d-59a8dae5a0c8",
   "metadata": {},
   "outputs": [],
   "source": [
    "# Import sklearn train_test_split library\n",
    "from sklearn.model_selection import train_test_split\n",
    "\n",
    "# Define params - use 20% as test data, and set random_state = 10\n",
    "X_train, X_test, y_train, y_test = train_test_split(X, y, test_size=0.2, random_state=10)"
   ]
  },
  {
   "cell_type": "markdown",
   "id": "1994e236-362f-40b6-9b70-c009d8998ea2",
   "metadata": {},
   "source": [
    "# ---------------------------------------------------------------------------------------"
   ]
  },
  {
   "cell_type": "markdown",
   "id": "8371fb1c-0946-4e9e-9ad1-9658fd3c4fb6",
   "metadata": {},
   "source": [
    "## Fit a ML model with training data & use testing data to evaluate the performance of the model on new, unseen data."
   ]
  },
  {
   "cell_type": "markdown",
   "id": "7158b3ef-c3a6-42b7-a9ff-f6ab3e78c6cb",
   "metadata": {},
   "source": [
    "## `Regressor` predictions"
   ]
  },
  {
   "cell_type": "markdown",
   "id": "8ba32fbd-6617-4bf6-b70f-9a657580dd94",
   "metadata": {},
   "source": [
    "#### Pick 5 regression models: `XGBoost`, `Linear Regression`, `Decision Tree`, `Random Forest`, and `Gradient Boosting`.\n",
    "#### Pick scoring metrics: `Root Mean Square Error (RMSE)`, `R^2`, `Mean Absolute Error (MAE)`"
   ]
  },
  {
   "cell_type": "code",
   "execution_count": 51,
   "id": "2010b1ce-2a14-4ae6-9ff0-4a42fcfded33",
   "metadata": {},
   "outputs": [
    {
     "name": "stdout",
     "output_type": "stream",
     "text": [
      "Model: XGBoost\n",
      "  RMSE on test data: 51075.43\n",
      "  R^2 on test data: 1.00\n",
      "  MAE on test data: 19474.57\n",
      "------\n",
      "Model: Linear Regression\n",
      "  RMSE on test data: 1129429.08\n",
      "  R^2 on test data: 0.92\n",
      "  MAE on test data: 400679.99\n",
      "------\n",
      "Model: Decision Tree\n",
      "  RMSE on test data: 92450.34\n",
      "  R^2 on test data: 1.00\n",
      "  MAE on test data: 1103.26\n",
      "------\n",
      "Model: Random Forest\n",
      "  RMSE on test data: 1328797.01\n",
      "  R^2 on test data: 0.89\n",
      "  MAE on test data: 6229.88\n",
      "------\n",
      "Model: Gradient Boosting\n",
      "  RMSE on test data: 153769.29\n",
      "  R^2 on test data: 1.00\n",
      "  MAE on test data: 70008.41\n",
      "------\n",
      "The winning model is XGBoost with the lowest RMSE score of 51075.43 on the test data, indicating the best performance.\n",
      "The R^2 score of the winning model is 1.00, and the MAE score is 19474.57.\n",
      "\n",
      "The second best model is Decision Tree with an RMSE score of 92450.34 on the test data.\n",
      "The R^2 score of the second best model is 1.00, and the MAE score is 1103.26.\n"
     ]
    }
   ],
   "source": [
    "# Import necessary libraries\n",
    "from sklearn.metrics import mean_squared_error, r2_score, mean_absolute_error\n",
    "from xgboost import XGBRegressor\n",
    "from sklearn.linear_model import LinearRegression\n",
    "from sklearn.tree import DecisionTreeRegressor\n",
    "from sklearn.ensemble import RandomForestRegressor, GradientBoostingRegressor\n",
    "\n",
    "# Define the regressor models to use\n",
    "models = [\n",
    "    ('XGBoost', XGBRegressor()),  # XGBoost regressor\n",
    "    ('Linear Regression', LinearRegression()),  # Linear regression model\n",
    "    ('Decision Tree', DecisionTreeRegressor()),  # Decision tree regressor\n",
    "    ('Random Forest', RandomForestRegressor()),  # Random forest regressor\n",
    "    ('Gradient Boosting', GradientBoostingRegressor())  # Gradient boosting regressor\n",
    "]\n",
    "\n",
    "# Evaluate the models using cross-validation and print the results\n",
    "for name, model in models:\n",
    "    # Fit the model to the training data\n",
    "    model.fit(X_train, y_train)\n",
    "\n",
    "    # Make predictions on the test data\n",
    "    y_pred = model.predict(X_test)\n",
    "\n",
    "    # Compute the evaluation metrics on the test data\n",
    "    rmse = mean_squared_error(y_test, y_pred, squared=False)\n",
    "    r2 = r2_score(y_test, y_pred)\n",
    "    mae = mean_absolute_error(y_test, y_pred)\n",
    "\n",
    "    # Print the evaluation metrics for the model\n",
    "    print(f\"Model: {name}\")\n",
    "    print(f\"  RMSE on test data: {rmse:.2f}\")  # root mean squared error\n",
    "    print(f\"  R^2 on test data: {r2:.2f}\")  # R-squared score\n",
    "    print(f\"  MAE on test data: {mae:.2f}\")  # mean absolute error\n",
    "    print(\"------\")\n",
    "\n",
    "# Find the winning model with the best evaluation metric\n",
    "winning_model, winning_metric = min([(name, model) for name, model in models], key=lambda x: mean_squared_error(y_test, x[1].predict(X_test), squared=False))\n",
    "\n",
    "# Compute the evaluation metrics for the winning model\n",
    "y_pred = winning_metric.predict(X_test)\n",
    "rmse = mean_squared_error(y_test, y_pred, squared=False)\n",
    "r2 = r2_score(y_test, y_pred)\n",
    "mae = mean_absolute_error(y_test, y_pred)\n",
    "\n",
    "# Sort models by RMSE score in ascending order\n",
    "sorted_models = sorted(models, key=lambda x: mean_squared_error(y_test, x[1].predict(X_test), squared=False))\n",
    "\n",
    "# Display the winning model\n",
    "print(f\"The winning model is {winning_model} with the lowest RMSE score of {rmse:.2f} on the test data, indicating the best performance.\")\n",
    "print(f\"The R^2 score of the winning model is {r2:.2f}, and the MAE score is {mae:.2f}.\\n\")\n",
    "\n",
    "# Display the second best model\n",
    "second_best_model = sorted_models[1][1]\n",
    "y_pred = second_best_model.predict(X_test)\n",
    "rmse = mean_squared_error(y_test, y_pred, squared=False)\n",
    "r2 = r2_score(y_test, y_pred)\n",
    "mae = mean_absolute_error(y_test, y_pred)\n",
    "print(f\"The second best model is {sorted_models[1][0]} with an RMSE score of {rmse:.2f} on the test data.\")\n",
    "print(f\"The R^2 score of the second best model is {r2:.2f}, and the MAE score is {mae:.2f}.\")"
   ]
  },
  {
   "cell_type": "markdown",
   "id": "cbbf9175-17e3-4edf-b08e-83be83d7cf50",
   "metadata": {},
   "source": [
    "# ---------------------------------------------------------------------------------------"
   ]
  },
  {
   "cell_type": "markdown",
   "id": "1c2ef0be-ebe6-4c53-945d-3271afcd15c5",
   "metadata": {},
   "source": [
    "## Conformal prediction"
   ]
  },
  {
   "cell_type": "markdown",
   "id": "6838fa9b-3955-4e78-948d-c0267d5132f9",
   "metadata": {},
   "source": [
    "### Define a function to calculate the prediction intervals using the conformal prediction algorithm - `XGBoost`"
   ]
  },
  {
   "cell_type": "code",
   "execution_count": 52,
   "id": "f7a0aa24-a352-4596-8882-900ccd15e617",
   "metadata": {},
   "outputs": [],
   "source": [
    "def conformal_prediction(model, X_train, y_train, X_test, significance_level):\n",
    "    n_train = X_train.shape[0]\n",
    "    n_test = X_test.shape[0]\n",
    "    n_features = X_train.shape[1]\n",
    "    alpha = significance_level / n_train\n",
    "\n",
    "    # Fit the model on the training data\n",
    "    model.fit(X_train, y_train)\n",
    "\n",
    "    # Get the predicted values and residuals for the training data\n",
    "    y_pred_train = model.predict(X_train)\n",
    "    residuals_train = y_train - y_pred_train\n",
    "\n",
    "    # Calculate the prediction intervals for the test data\n",
    "    y_pred_test = model.predict(X_test)\n",
    "    residuals_test = y_train - y_pred_test\n",
    "    intervals = np.zeros((n_test, 2))\n",
    "    for i in range(n_test):\n",
    "        x_i = X_test[i, :]\n",
    "        y_i = y_pred_test[i]\n",
    "        r_i = residuals_test[i]\n",
    "        sigma_i = np.sqrt(np.sum((residuals_train - r_i) ** 2) / (n_train - n_features - 1))\n",
    "        quantile = np.quantile(np.abs(residuals_train - r_i) / sigma_i, 1 - alpha)\n",
    "        interval = (y_i - quantile * sigma_i, y_i + quantile * sigma_i)\n",
    "        intervals[i, :] = interval\n",
    "\n",
    "    return intervals"
   ]
  }
 ],
 "metadata": {
  "kernelspec": {
   "display_name": "dev",
   "language": "python",
   "name": "dev"
  },
  "language_info": {
   "codemirror_mode": {
    "name": "ipython",
    "version": 3
   },
   "file_extension": ".py",
   "mimetype": "text/x-python",
   "name": "python",
   "nbconvert_exporter": "python",
   "pygments_lexer": "ipython3",
   "version": "3.7.13"
  }
 },
 "nbformat": 4,
 "nbformat_minor": 5
}
